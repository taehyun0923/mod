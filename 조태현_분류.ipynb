{
 "cells": [
  {
   "cell_type": "markdown",
   "id": "da9ac2d8",
   "metadata": {},
   "source": [
    "# 데이터 전처리 EX-5\n",
    "## Red Wine Quality Dataset을 이용한 와인 품질 예측 모델 구현 (분류 모델)\n",
    "### 문제 5: 데이터 스케일링"
   ]
  },
  {
   "cell_type": "code",
   "execution_count": 15,
   "id": "a2812057",
   "metadata": {},
   "outputs": [
    {
     "name": "stdout",
     "output_type": "stream",
     "text": [
      "정확도: 80.31%\n",
      "\n",
      "분류 리포트:\n",
      "               precision    recall  f1-score   support\n",
      "\n",
      "           0       0.78      0.81      0.79       149\n",
      "           1       0.83      0.80      0.81       171\n",
      "\n",
      "    accuracy                           0.80       320\n",
      "   macro avg       0.80      0.80      0.80       320\n",
      "weighted avg       0.80      0.80      0.80       320\n",
      "\n",
      "혼동 행렬:\n",
      " [[121  28]\n",
      " [ 35 136]]\n"
     ]
    }
   ],
   "source": [
    "import pandas as pd\n",
    "from sklearn.model_selection import train_test_split\n",
    "from sklearn.preprocessing import StandardScaler\n",
    "from sklearn.ensemble import RandomForestClassifier\n",
    "from sklearn.metrics import accuracy_score, classification_report, confusion_matrix\n",
    "\n",
    "# 1. 데이터 불러오기\n",
    "df = pd.read_csv('winequality-red.csv')\n",
    "\n",
    "# 2. 이진 분류 타겟 생성 (quality가 6 이상이면 1, 아니면 0)\n",
    "df['quality_label'] = df['quality'].apply(lambda x: 1 if x >= 6 else 0)\n",
    "\n",
    "# 3. 특성과 라벨 분리\n",
    "feature_col = [\n",
    "    'fixed acidity', 'volatile acidity', 'citric acid', 'residual sugar',\n",
    "    'chlorides', 'free sulfur dioxide', 'total sulfur dioxide',\n",
    "    'density', 'pH', 'sulphates', 'alcohol'\n",
    "]\n",
    "X = df[feature_col]\n",
    "y = df['quality_label']\n",
    "\n",
    "# 4. 데이터 분리 : 학습용, 테스트용\n",
    "X_train, X_test, y_train, y_test = train_test_split(\n",
    "    X, y, test_size=0.2, random_state=42, stratify=y\n",
    ")\n",
    "\n",
    "# 5. StandaradScaler를 사용해 표준화\n",
    "scaler = StandardScaler()\n",
    "X_train_scaled = scaler.fit_transform(X_train)\n",
    "X_test_scaled = scaler.transform(X_test)\n",
    "\n",
    "# 6. 학습\n",
    "model = RandomForestClassifier(n_estimators=100, random_state=42)\n",
    "model.fit(X_train_scaled, y_train)\n",
    "\n",
    "# 7. 예측\n",
    "y_pred = model.predict(X_test_scaled)\n",
    "\n",
    "# 8. 성능 평가\n",
    "acc = accuracy_score(y_test, y_pred)\n",
    "print(f\"정확도: {acc * 100:.2f}%\")\n",
    "print(\"\\n분류 리포트:\\n\", classification_report(y_test, y_pred))\n",
    "print(\"혼동 행렬:\\n\", confusion_matrix(y_test, y_pred))\n",
    "\n"
   ]
  },
  {
   "cell_type": "markdown",
   "id": "61c0173d",
   "metadata": {},
   "source": [
    "# 지도학습 예제 1\n",
    "### 신용카드 사기 거래 탐지(이진 분류)"
   ]
  },
  {
   "cell_type": "code",
   "execution_count": 14,
   "id": "d63ebb18",
   "metadata": {},
   "outputs": [
    {
     "name": "stdout",
     "output_type": "stream",
     "text": [
      "정확도: 0.9995962220427653\n",
      "정밀도: 0.9411764705882353\n",
      "재현율: 0.8163265306122449\n",
      "F1 점수: 0.8743169398907104\n",
      "\n",
      "혼동 행렬\n",
      "[[56859     5]\n",
      " [   18    80]]\n",
      "\n",
      "분류 리포트\n",
      "              precision    recall  f1-score   support\n",
      "\n",
      "           0       1.00      1.00      1.00     56864\n",
      "           1       0.94      0.82      0.87        98\n",
      "\n",
      "    accuracy                           1.00     56962\n",
      "   macro avg       0.97      0.91      0.94     56962\n",
      "weighted avg       1.00      1.00      1.00     56962\n",
      "\n"
     ]
    }
   ],
   "source": [
    "import pandas as pd\n",
    "from sklearn.model_selection import train_test_split\n",
    "from sklearn.preprocessing import StandardScaler\n",
    "from sklearn.ensemble import RandomForestClassifier\n",
    "from sklearn.metrics import accuracy_score, precision_score, recall_score, f1_score, confusion_matrix, classification_report\n",
    "\n",
    "# 1. 데이터 불러오기\n",
    "df = pd.read_csv('creditcard.csv')\n",
    "\n",
    "# 2. 특성과 라벨 분리\n",
    "X = df.drop('Class', axis=1)\n",
    "y = df['Class']\n",
    "\n",
    "# 3. 데이터 분리 : 학습용, 테스트용\n",
    "X_train, X_test, y_train, y_test = train_test_split(X, y, test_size=0.2, random_state=42, stratify=y)\n",
    "\n",
    "# 4. StandaradScaler를 사용해 표준화\n",
    "scaler = StandardScaler()\n",
    "X_train_scaled = scaler.fit_transform(X_train)\n",
    "X_test_scaled = scaler.transform(X_test)\n",
    "\n",
    "# 5. 랜덤 포레스트 모델 학습\n",
    "model = RandomForestClassifier(n_estimators=100, random_state=42)\n",
    "model.fit(X_train_scaled, y_train)\n",
    "\n",
    "# 6. 예측\n",
    "y_pred = model.predict(X_test_scaled)\n",
    "\n",
    "# 7. 평가\n",
    "print(\"정확도:\", accuracy_score(y_test, y_pred))\n",
    "print(\"정밀도:\", precision_score(y_test, y_pred))\n",
    "print(\"재현율:\", recall_score(y_test, y_pred))\n",
    "print(\"F1 점수:\", f1_score(y_test, y_pred))\n",
    "print(\"\\n혼동 행렬\")\n",
    "print(confusion_matrix(y_test, y_pred))\n",
    "print(\"\\n분류 리포트\")\n",
    "print(classification_report(y_test, y_pred))\n"
   ]
  },
  {
   "cell_type": "markdown",
   "id": "a9dae689",
   "metadata": {},
   "source": [
    "# 지도학습 예제 2\n",
    "### 신용카드 사기 거래 탐지(이진 분류)"
   ]
  },
  {
   "cell_type": "code",
   "execution_count": 5,
   "id": "7780f956",
   "metadata": {},
   "outputs": [
    {
     "name": "stdout",
     "output_type": "stream",
     "text": [
      "정확도: 0.9995435553526912\n",
      "\n",
      "분류 리포트\n",
      "              precision    recall  f1-score   support\n",
      "\n",
      "           0       1.00      1.00      1.00     56864\n",
      "           1       0.92      0.81      0.86        98\n",
      "\n",
      "    accuracy                           1.00     56962\n",
      "   macro avg       0.96      0.90      0.93     56962\n",
      "weighted avg       1.00      1.00      1.00     56962\n",
      "\n"
     ]
    }
   ],
   "source": [
    "from sklearn.neighbors import KNeighborsClassifier\n",
    "\n",
    "# 1. KNN 모델 사용\n",
    "knn = KNeighborsClassifier(n_neighbors=5) # 가장 가까운 이웃의 개수\n",
    "knn.fit(X_train_scaled, y_train)\n",
    "\n",
    "# 2. 예측\n",
    "y_pred = knn.predict(X_test_scaled)\n",
    "\n",
    "# 3. 성능 평가\n",
    "print(\"정확도:\", accuracy_score(y_test, y_pred))\n",
    "print(\"\\n분류 리포트\")\n",
    "print(classification_report(y_test, y_pred))"
   ]
  }
 ],
 "metadata": {
  "kernelspec": {
   "display_name": "Python 3",
   "language": "python",
   "name": "python3"
  },
  "language_info": {
   "codemirror_mode": {
    "name": "ipython",
    "version": 3
   },
   "file_extension": ".py",
   "mimetype": "text/x-python",
   "name": "python",
   "nbconvert_exporter": "python",
   "pygments_lexer": "ipython3",
   "version": "3.13.4"
  }
 },
 "nbformat": 4,
 "nbformat_minor": 5
}
