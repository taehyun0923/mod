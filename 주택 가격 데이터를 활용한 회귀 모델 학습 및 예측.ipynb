{
 "cells": [
  {
   "cell_type": "code",
   "execution_count": 6,
   "id": "169580ee",
   "metadata": {},
   "outputs": [
    {
     "name": "stdout",
     "output_type": "stream",
     "text": [
      "MAE: 26925.88\n",
      "MSE: 1647217251.13\n",
      "RMSE: 40585.92\n",
      "R2: 0.7852\n"
     ]
    }
   ],
   "source": [
    "import pandas as pd\n",
    "import numpy as np\n",
    "from sklearn.model_selection import train_test_split\n",
    "from sklearn.tree import DecisionTreeRegressor\n",
    "from sklearn.metrics import mean_absolute_error, mean_squared_error, r2_score\n",
    "\n",
    "# 1. 데이터 불러오기\n",
    "df = pd.read_csv('train.csv')\n",
    "\n",
    "# 2. 결측치 처리 (결측이 많은 열 삭제, LotFrontage는 평균으로 대체)\n",
    "df = df.drop(columns=[col for col in df.columns if df[col].isnull().sum() > 0.2 * len(df)])\n",
    "df['LotFrontage'] = df['LotFrontage'].fillna(df['LotFrontage'].mean())\n",
    "\n",
    "# 3. 범주형 변수 인코딩 (pd.get_dummies로 처리)\n",
    "df = pd.get_dummies(df)\n",
    "\n",
    "# 4. 불필요한 열 제거 (Id)\n",
    "df = df.drop(columns=['Id'])\n",
    "\n",
    "# 5. 특성과 타겟 분리\n",
    "X = df.drop('SalePrice', axis=1)\n",
    "y = df['SalePrice']\n",
    "\n",
    "# 6. 학습/테스트 데이터 분리 (8:2 비율)\n",
    "X_train, X_test, y_train, y_test = train_test_split(X, y, test_size=0.2, random_state=42)\n",
    "\n",
    "# 7. 모델 학습 (DecisionTreeRegressor)\n",
    "model = DecisionTreeRegressor(random_state=42)\n",
    "model.fit(X_train, y_train)\n",
    "\n",
    "# 8. 예측 및 모델 평가\n",
    "y_pred = model.predict(X_test)\n",
    "mae = mean_absolute_error(y_test, y_pred)\n",
    "mse = mean_squared_error(y_test, y_pred)\n",
    "rmse = np.sqrt(mse)\n",
    "r2 = r2_score(y_test, y_pred)\n",
    "\n",
    "# 9. MAE, MSE, RMSE, R2 출력\n",
    "print(f\"MAE: {mae:.2f}\")\n",
    "print(f\"MSE: {mse:.2f}\")\n",
    "print(f\"RMSE: {rmse:.2f}\")\n",
    "print(f\"R2: {r2:.4f}\")\n"
   ]
  }
 ],
 "metadata": {
  "kernelspec": {
   "display_name": "Python 3",
   "language": "python",
   "name": "python3"
  },
  "language_info": {
   "codemirror_mode": {
    "name": "ipython",
    "version": 3
   },
   "file_extension": ".py",
   "mimetype": "text/x-python",
   "name": "python",
   "nbconvert_exporter": "python",
   "pygments_lexer": "ipython3",
   "version": "3.13.4"
  }
 },
 "nbformat": 4,
 "nbformat_minor": 5
}
