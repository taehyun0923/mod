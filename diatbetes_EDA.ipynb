{
 "cells": [
  {
   "cell_type": "code",
   "execution_count": 2,
   "id": "ac626964",
   "metadata": {},
   "outputs": [
    {
     "name": "stdout",
     "output_type": "stream",
     "text": [
      "각 열의 결측치 개수:\n",
      "Glucose: 5개\n",
      "BloodPressure: 35개\n",
      "SkinThickness: 227개\n",
      "Insulin: 374개\n",
      "BMI: 11개\n",
      "\n",
      "Outcome 별 Glucose 평균:\n",
      "Outcome\n",
      "0    110.710121\n",
      "1    142.165573\n",
      "Name: Glucose, dtype: float64\n",
      "\n",
      "전처리 후 데이터프레임 상위 5개 행:\n",
      "   Pregnancies  Glucose  BloodPressure  SkinThickness     Insulin   BMI  \\\n",
      "0            6    148.0           72.0       35.00000  155.548223  33.6   \n",
      "1            1     85.0           66.0       29.00000  155.548223  26.6   \n",
      "2            8    183.0           64.0       29.15342  155.548223  23.3   \n",
      "3            1     89.0           66.0       23.00000   94.000000  28.1   \n",
      "4            0    137.0           40.0       35.00000  168.000000  43.1   \n",
      "\n",
      "   DiabetesPedigreeFunction       Age  Outcome  \n",
      "0                     0.627  0.483333        1  \n",
      "1                     0.351  0.166667        0  \n",
      "2                     0.672  0.183333        1  \n",
      "3                     0.167  0.000000        0  \n",
      "4                     2.288  0.200000        1  \n"
     ]
    },
    {
     "name": "stderr",
     "output_type": "stream",
     "text": [
      "C:\\Users\\User\\AppData\\Local\\Temp\\ipykernel_10740\\705309011.py:14: FutureWarning: A value is trying to be set on a copy of a DataFrame or Series through chained assignment using an inplace method.\n",
      "The behavior will change in pandas 3.0. This inplace method will never work because the intermediate object on which we are setting values always behaves as a copy.\n",
      "\n",
      "For example, when doing 'df[col].method(value, inplace=True)', try using 'df.method({col: value}, inplace=True)' or df[col] = df[col].method(value) instead, to perform the operation inplace on the original object.\n",
      "\n",
      "\n",
      "  df[col].fillna(mean_val, inplace=True)  # 평균으로 대체\n"
     ]
    }
   ],
   "source": [
    "import pandas as pd\n",
    "import numpy as np\n",
    "from sklearn.preprocessing import MinMaxScaler\n",
    "\n",
    "# 1. 데이터셋 불러오기\n",
    "# 저장된 CSV 파일을 pandas DataFrame으로 읽어옴\n",
    "df = pd.read_csv('20250618_175248_diabetes.csv')\n",
    "\n",
    "# 2. 결측치 처리 (0을 결측치로 간주하고 평균으로 대체)\n",
    "miss_val_replace = ['Glucose', 'BloodPressure', 'SkinThickness', 'Insulin', 'BMI']\n",
    "for col in miss_val_replace:\n",
    "    df[col] = df[col].replace(0, np.nan)    # 0을 NaN으로 간주\n",
    "    mean_val = df[col].mean()               # NaN 제외하고 평균을 계산\n",
    "    df[col].fillna(mean_val, inplace=True)  # 평균으로 대체\n",
    "\n",
    "# 3. 이상치 처리 (SkinThickness, Insulin의 상위 1% 이상치로 간주하고 평균으로 대체)\n",
    "for col in ['SkinThickness', 'Insulin']:\n",
    "    threshold = df[col].quantile(0.99)              # 상위 1% 이상 구하기\n",
    "    mean_val = df[df[col] <= threshold][col].mean() # 이상치 제외한 평균을 계\n",
    "    df.loc[df[col] > threshold, col] = mean_val     # 이상치 위치를 평균으로 대체\n",
    "\n",
    "# 4. 정규화 (Age 열을 0~1 범위로 정규화)\n",
    "scaler = MinMaxScaler()\n",
    "df['Age'] = scaler.fit_transform(df[['Age']])       # 2차원 배열 형태로 전달\n",
    "\n",
    "# 5. EDA 출력\n",
    "# 각 열의 결측치 개수 출력\n",
    "original_df = pd.read_csv('20250618_175248_diabetes.csv')\n",
    "print(\"각 열의 결측치 개수:\")\n",
    "for col in miss_val_replace:\n",
    "    print(f\"{col}: { (original_df[col] == 0).sum() }개\")\n",
    "\n",
    "# Outcome 별 Glucose 평균\n",
    "print(\"\\nOutcome 별 Glucose 평균:\")\n",
    "print(df.groupby('Outcome')['Glucose'].mean())\n",
    "\n",
    "# 전처리 후 데이터프레임 상위 5개 행 출력\n",
    "print(\"\\n전처리 후 데이터프레임 상위 5개 행:\")\n",
    "print(df.head())"
   ]
  }
 ],
 "metadata": {
  "kernelspec": {
   "display_name": ".venv",
   "language": "python",
   "name": "python3"
  },
  "language_info": {
   "codemirror_mode": {
    "name": "ipython",
    "version": 3
   },
   "file_extension": ".py",
   "mimetype": "text/x-python",
   "name": "python",
   "nbconvert_exporter": "python",
   "pygments_lexer": "ipython3",
   "version": "3.13.4"
  }
 },
 "nbformat": 4,
 "nbformat_minor": 5
}
