{
 "cells": [
  {
   "cell_type": "markdown",
   "id": "de6d819a",
   "metadata": {},
   "source": [
    "# 데이터 전처리 EX-3\n",
    "## Diamonds Dataset을 이용한 가격 예측 모델 구현 (회귀 모델)\n",
    "### 문제 3: 이상치 제거 (IQR 이용)"
   ]
  },
  {
   "cell_type": "code",
   "execution_count": null,
   "id": "ed7e9ffb",
   "metadata": {},
   "outputs": [
    {
     "name": "stdout",
     "output_type": "stream",
     "text": [
      "IQR: 0.64\n",
      "하한 (lower bound): -0.5599999999999999\n",
      "상한 (upper bound): 2.0\n",
      "원래 데이터의 개수: 53940\n",
      "이상치 제거 후 데이터의 개수: 52051\n",
      "\n",
      "모델 성능\n",
      "mse: 1288705.48\n",
      "rmse: 1135.21\n",
      "mae: 737.15\n",
      "r2 Score: 0.9189\n"
     ]
    }
   ],
   "source": [
    "import pandas as pd\n",
    "import numpy as np\n",
    "from sklearn.model_selection import train_test_split\n",
    "from sklearn.linear_model import LinearRegression\n",
    "from sklearn.pipeline import Pipeline\n",
    "from sklearn.preprocessing import OneHotEncoder, StandardScaler\n",
    "from sklearn.compose import ColumnTransformer\n",
    "from sklearn.metrics import mean_squared_error, mean_absolute_error, r2_score\n",
    "\n",
    "# 1. 데이터 불러오기\n",
    "df = pd.read_csv('diamonds.csv')\n",
    "\n",
    "# 2. carat열의 IQR 계산\n",
    "Q1 = df['carat'].quantile(0.25)\n",
    "Q3 = df['carat'].quantile(0.75)\n",
    "IQR = Q3 - Q1\n",
    "\n",
    "# 3. 이상치 경계 계산 후 하한과 상한 값 출력\n",
    "lower_bound = Q1 - 1.5 * IQR\n",
    "upper_bound = Q3 + 1.5 * IQR\n",
    "\n",
    "print(f\"IQR: {IQR}\")\n",
    "print(f\"하한 (lower bound): {lower_bound}\")\n",
    "print(f\"상한 (upper bound): {upper_bound}\")\n",
    "\n",
    "# 4. carat 열에서 IQR 방식을 사용하여 이상치 제거\n",
    "df_no_outliers = df[(df['carat'] >= lower_bound) & (df['carat'] <= upper_bound)]\n",
    "\n",
    "# 5. 이상치 제거 후 데이터의 개수를 출력\n",
    "print(f\"원래 데이터의 개수: {len(df)}\")\n",
    "print(f\"이상치 제거 후 데이터의 개수: {len(df_no_outliers)}\")\n",
    "\n",
    "# 6. 특성과 라벨 분리\n",
    "X = df.drop('price', axis=1)\n",
    "y = df['price']\n",
    "\n",
    "# 7. 수치형 / 범주형 특징을 구분\n",
    "num_data = ['carat', 'depth', 'table', 'x', 'y', 'z']\n",
    "ctgy_data = ['cut', 'color', 'clarity']\n",
    "\n",
    "# 8. 전처리 구성\n",
    "num_trans = StandardScaler()\n",
    "ctgy_trans = OneHotEncoder(drop='first', handle_unknown='ignore')\n",
    "\n",
    "preprocessor = ColumnTransformer(\n",
    "    transformers=[\n",
    "        ('num', num_trans, num_data),\n",
    "        ('ctgy', ctgy_trans, ctgy_data)\n",
    "    ]\n",
    ")\n",
    "\n",
    "# 9. 파이프라인 구성\n",
    "model = Pipeline(steps=[\n",
    "    ('preprocessor', preprocessor),\n",
    "    ('regressor', LinearRegression())\n",
    "])\n",
    "\n",
    "# 10. 학습/테스트 분할\n",
    "X_train, X_test, y_train, y_test = train_test_split(X, y, test_size=0.2, random_state=42)\n",
    "\n",
    "# 11. 모델 학습\n",
    "model.fit(X_train, y_train)\n",
    "\n",
    "# 12. 예측\n",
    "y_pred = model.predict(X_test)\n",
    "\n",
    "# 13. 평가\n",
    "mse = mean_squared_error(y_test, y_pred)\n",
    "rmse = np.sqrt(mse)\n",
    "mae = mean_absolute_error(y_test, y_pred)\n",
    "r2 = r2_score(y_test, y_pred)\n",
    "\n",
    "print(\"\\n모델 성능\")\n",
    "print(f\"mse: {mse:.2f}\")\n",
    "print(f\"rmse: {rmse:.2f}\")\n",
    "print(f\"mae: {mae:.2f}\")\n",
    "print(f\"r2 Score: {r2:.4f}\")"
   ]
  },
  {
   "cell_type": "markdown",
   "id": "16d1f0a5",
   "metadata": {},
   "source": [
    "##### MSE 값이 작을수록 모델이 더 정확하다. \n",
    "##### RMSE는 평균적으로 실제 값과 1135 오차가 난다고 본다.\n",
    "##### MAE는 평균적으로 실제 값과 737정도 차이난다고 본다.\n",
    "##### R2는 모델은 데이터를 약 91.89% 설명한다고 본다.\n",
    "##### R2가 약 92%인 것으로 보아 모델은 잘 작동하지만\n",
    "##### 1000(price)달러 이상의 가격 예측 오차는 다이아몬드를 구매하는데 큰 문제라고 볼 수 있다. "
   ]
  }
 ],
 "metadata": {
  "kernelspec": {
   "display_name": "Python 3",
   "language": "python",
   "name": "python3"
  },
  "language_info": {
   "codemirror_mode": {
    "name": "ipython",
    "version": 3
   },
   "file_extension": ".py",
   "mimetype": "text/x-python",
   "name": "python",
   "nbconvert_exporter": "python",
   "pygments_lexer": "ipython3",
   "version": "3.13.4"
  }
 },
 "nbformat": 4,
 "nbformat_minor": 5
}
