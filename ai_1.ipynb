{
 "cells": [
  {
   "cell_type": "markdown",
   "id": "b3ed7f8b",
   "metadata": {},
   "source": [
    "### requests"
   ]
  },
  {
   "cell_type": "code",
   "execution_count": 1,
   "id": "b03619d6",
   "metadata": {},
   "outputs": [
    {
     "name": "stdout",
     "output_type": "stream",
     "text": [
      "Collecting requests\n",
      "  Downloading requests-2.32.4-py3-none-any.whl.metadata (4.9 kB)\n",
      "Collecting charset_normalizer<4,>=2 (from requests)\n",
      "  Downloading charset_normalizer-3.4.2-cp313-cp313-win_amd64.whl.metadata (36 kB)\n",
      "Collecting idna<4,>=2.5 (from requests)\n",
      "  Downloading idna-3.10-py3-none-any.whl.metadata (10 kB)\n",
      "Collecting urllib3<3,>=1.21.1 (from requests)\n",
      "  Downloading urllib3-2.4.0-py3-none-any.whl.metadata (6.5 kB)\n",
      "Collecting certifi>=2017.4.17 (from requests)\n",
      "  Downloading certifi-2025.6.15-py3-none-any.whl.metadata (2.4 kB)\n",
      "Downloading requests-2.32.4-py3-none-any.whl (64 kB)\n",
      "Downloading charset_normalizer-3.4.2-cp313-cp313-win_amd64.whl (105 kB)\n",
      "Downloading idna-3.10-py3-none-any.whl (70 kB)\n",
      "Downloading urllib3-2.4.0-py3-none-any.whl (128 kB)\n",
      "Downloading certifi-2025.6.15-py3-none-any.whl (157 kB)\n",
      "Installing collected packages: urllib3, idna, charset_normalizer, certifi, requests\n",
      "\n",
      "   ---------------------------------------- 0/5 [urllib3]\n",
      "   ---------------------------------------- 0/5 [urllib3]\n",
      "   ---------------------------------------- 0/5 [urllib3]\n",
      "   ---------------------------------------- 0/5 [urllib3]\n",
      "   ---------------------------------------- 0/5 [urllib3]\n",
      "   ---------------------------------------- 0/5 [urllib3]\n",
      "   ---------------------------------------- 0/5 [urllib3]\n",
      "   -------- ------------------------------- 1/5 [idna]\n",
      "   -------- ------------------------------- 1/5 [idna]\n",
      "   ---------------- ----------------------- 2/5 [charset_normalizer]\n",
      "   ---------------- ----------------------- 2/5 [charset_normalizer]\n",
      "   ---------------- ----------------------- 2/5 [charset_normalizer]\n",
      "   ------------------------ --------------- 3/5 [certifi]\n",
      "   -------------------------------- ------- 4/5 [requests]\n",
      "   -------------------------------- ------- 4/5 [requests]\n",
      "   -------------------------------- ------- 4/5 [requests]\n",
      "   ---------------------------------------- 5/5 [requests]\n",
      "\n",
      "Successfully installed certifi-2025.6.15 charset_normalizer-3.4.2 idna-3.10 requests-2.32.4 urllib3-2.4.0\n",
      "Note: you may need to restart the kernel to use updated packages.\n"
     ]
    }
   ],
   "source": [
    "pip install requests"
   ]
  },
  {
   "cell_type": "code",
   "execution_count": 2,
   "id": "8c565de0",
   "metadata": {},
   "outputs": [],
   "source": [
    "import requests"
   ]
  },
  {
   "cell_type": "code",
   "execution_count": 4,
   "id": "634c0e05",
   "metadata": {},
   "outputs": [],
   "source": [
    "url = 'https://jsonplaceholder.typicode.com/posts'"
   ]
  },
  {
   "cell_type": "code",
   "execution_count": 5,
   "id": "a754ecbf",
   "metadata": {},
   "outputs": [],
   "source": [
    "response = requests.get(url)"
   ]
  },
  {
   "cell_type": "code",
   "execution_count": 7,
   "id": "9b427e3f",
   "metadata": {},
   "outputs": [
    {
     "data": {
      "text/plain": [
       "str"
      ]
     },
     "execution_count": 7,
     "metadata": {},
     "output_type": "execute_result"
    }
   ],
   "source": [
    "type(response.text)"
   ]
  },
  {
   "cell_type": "code",
   "execution_count": 9,
   "id": "cbf39fef",
   "metadata": {},
   "outputs": [
    {
     "name": "stdout",
     "output_type": "stream",
     "text": [
      "200\n"
     ]
    }
   ],
   "source": [
    "# 정상 처리(응답) 코드 = 200\n",
    "# 404 => Not Found\n",
    "# 500~ => 서버 에러\n",
    "print(response.status_code)"
   ]
  },
  {
   "cell_type": "code",
   "execution_count": 11,
   "id": "56c130ff",
   "metadata": {},
   "outputs": [
    {
     "name": "stdout",
     "output_type": "stream",
     "text": [
      "응답 성공\n",
      "[\n",
      "  {\n",
      "    \"userId\": 1,\n",
      "    \"id\": 1,\n",
      "    \"title\": \"sunt aut facere repellat provident occaecati excepturi optio reprehenderit\",\n",
      "    \"body\": \"quia et suscipit\\nsuscipit recusandae consequuntur expedita et cum\\nreprehenderit molestiae ut ut quas totam\\nnostrum rerum est autem sunt rem eveniet architecto\"\n",
      "  },\n",
      "  {\n",
      "    \"userId\": 1,\n",
      "    \"id\": 2,\n",
      "    \"title\": \"qui est esse\",\n",
      "    \"body\": \"est rerum tempor\n"
     ]
    }
   ],
   "source": [
    "if response.status_code == 200:\n",
    "    print('응답 성공')\n",
    "    print(response.text[:400])\n",
    "else :\n",
    "    print(f'오류 발생 : {response.status_code}')"
   ]
  },
  {
   "cell_type": "code",
   "execution_count": 19,
   "id": "cccbeb23",
   "metadata": {},
   "outputs": [],
   "source": [
    "# JSON => object(list, dict) 변환\n",
    "#[] => list 반환 {} => dictionary 반환 \n",
    "data_obj = response.json()"
   ]
  },
  {
   "cell_type": "code",
   "execution_count": 20,
   "id": "af0d3258",
   "metadata": {},
   "outputs": [
    {
     "data": {
      "text/plain": [
       "list"
      ]
     },
     "execution_count": 20,
     "metadata": {},
     "output_type": "execute_result"
    }
   ],
   "source": [
    "type(data_obj)"
   ]
  },
  {
   "cell_type": "code",
   "execution_count": 21,
   "id": "e3de6a1a",
   "metadata": {},
   "outputs": [
    {
     "name": "stdout",
     "output_type": "stream",
     "text": [
      "title : sunt aut f\n",
      "body : quia et su\n",
      "title : qui est es\n",
      "body : est rerum \n",
      "title : ea molesti\n",
      "body : et iusto s\n",
      "title : eum et est\n",
      "body : ullam et s\n",
      "title : nesciunt q\n",
      "body : repudianda\n",
      "title : dolorem eu\n",
      "body : ut asperna\n",
      "title : magnam fac\n",
      "body : dolore pla\n",
      "title : dolorem do\n",
      "body : dignissimo\n",
      "title : nesciunt i\n",
      "body : consectetu\n",
      "title : optio mole\n",
      "body : quo et exp\n",
      "title : et ea vero\n",
      "body : delectus r\n",
      "title : in quibusd\n",
      "body : itaque id \n",
      "title : dolorum ut\n",
      "body : aut dicta \n",
      "title : voluptatem\n",
      "body : fuga et ac\n",
      "title : eveniet qu\n",
      "body : reprehende\n",
      "title : sint susci\n",
      "body : suscipit n\n",
      "title : fugit volu\n",
      "body : eos volupt\n",
      "title : voluptate \n",
      "body : eveniet qu\n",
      "title : adipisci p\n",
      "body : illum quis\n",
      "title : doloribus \n",
      "body : qui conseq\n",
      "title : asperiores\n",
      "body : repellat a\n",
      "title : dolor sint\n",
      "body : eos qui et\n",
      "title : maxime id \n",
      "body : veritatis \n",
      "title : autem hic \n",
      "body : enim et ex\n",
      "title : rem alias \n",
      "body : ullam cons\n",
      "title : est et qua\n",
      "body : similique \n",
      "title : quasi id e\n",
      "body : eum sed do\n",
      "title : delectus u\n",
      "body : non et qua\n",
      "title : iusto eius\n",
      "body : odit magna\n",
      "title : a quo magn\n",
      "body : alias dolo\n",
      "title : ullam ut q\n",
      "body : debitis ei\n",
      "title : doloremque\n",
      "body : deserunt e\n",
      "title : qui explic\n",
      "body : rerum ut e\n",
      "title : magnam ut \n",
      "body : ea velit p\n",
      "title : id nihil c\n",
      "body : nisi error\n",
      "title : fuga nam a\n",
      "body : ad molliti\n",
      "title : provident \n",
      "body : debitis et\n",
      "title : explicabo \n",
      "body : animi esse\n",
      "title : eos dolore\n",
      "body : corporis r\n",
      "title : enim quo c\n",
      "body : ut volupta\n",
      "title : non est fa\n",
      "body : molestias \n",
      "title : commodi ul\n",
      "body : odio fugit\n",
      "title : eligendi i\n",
      "body : similique \n",
      "title : optio dolo\n",
      "body : temporibus\n",
      "title : ut numquam\n",
      "body : est natus \n",
      "title : aut quo mo\n",
      "body : voluptatem\n",
      "title : quibusdam \n",
      "body : voluptatem\n",
      "title : ut volupta\n",
      "body : voluptates\n",
      "title : laborum no\n",
      "body : inventore \n",
      "title : repellendu\n",
      "body : error susc\n",
      "title : soluta ali\n",
      "body : sunt dolor\n",
      "title : qui enim e\n",
      "body : iusto est \n",
      "title : ut quo aut\n",
      "body : minima har\n",
      "title : sit asperi\n",
      "body : totam corp\n",
      "title : sit vel vo\n",
      "body : debitis ex\n",
      "title : qui et at \n",
      "body : aut est om\n",
      "title : sed ab est\n",
      "body : at pariatu\n",
      "title : voluptatum\n",
      "body : veniam vol\n",
      "title : qui commod\n",
      "body : perspiciat\n",
      "title : consequatu\n",
      "body : asperiores\n",
      "title : voluptatem\n",
      "body : ab nemo op\n",
      "title : beatae eni\n",
      "body : enim asper\n",
      "title : voluptas b\n",
      "body : enim adipi\n",
      "title : et fugit q\n",
      "body : id velit b\n",
      "title : consequatu\n",
      "body : voluptatib\n",
      "title : repudianda\n",
      "body : officia ve\n",
      "title : aliquid eo\n",
      "body : reprehende\n",
      "title : odio quis \n",
      "body : magnam mol\n",
      "title : fugiat quo\n",
      "body : officiis e\n",
      "title : voluptatem\n",
      "body : sunt repel\n",
      "title : et iusto v\n",
      "body : occaecati \n",
      "title : sint hic d\n",
      "body : quam occae\n",
      "title : consequunt\n",
      "body : voluptatem\n",
      "title : enim unde \n",
      "body : odit qui e\n",
      "title : dignissimo\n",
      "body : commodi no\n",
      "title : doloremque\n",
      "body : ut animi f\n",
      "title : necessitat\n",
      "body : modi ut in\n",
      "title : quam volup\n",
      "body : nobis faci\n",
      "title : pariatur c\n",
      "body : libero acc\n",
      "title : labore in \n",
      "body : ex quod do\n",
      "title : tempora re\n",
      "body : facere qui\n",
      "title : laudantium\n",
      "body : ut libero \n",
      "title : odit et vo\n",
      "body : est molest\n",
      "title : optio ipsa\n",
      "body : sint moles\n",
      "title : dolore ver\n",
      "body : similique \n",
      "title : placeat qu\n",
      "body : quasi exce\n",
      "title : nostrum qu\n",
      "body : eos et mol\n",
      "title : sapiente o\n",
      "body : consequatu\n",
      "title : sint solut\n",
      "body : repellat a\n",
      "title : ad iusto o\n",
      "body : minus omni\n",
      "title : aut amet s\n",
      "body : libero vol\n",
      "title : ratione ex\n",
      "body : aut et exc\n",
      "title : beatae sol\n",
      "body : dolorem qu\n",
      "title : qui qui vo\n",
      "body : aspernatur\n",
      "title : id minus l\n",
      "body : earum volu\n",
      "title : quaerat ve\n",
      "body : in non odi\n",
      "title : quas fugia\n",
      "body : eum non bl\n",
      "title : laboriosam\n",
      "body : doloremque\n",
      "title : temporibus\n",
      "body : quo deleni\n",
      "title : at nam con\n",
      "body : cupiditate\n"
     ]
    }
   ],
   "source": [
    "for post in data_obj:\n",
    "    print(f'title : {post['title'][:10]}')\n",
    "    print(f'body : {post['body'][:10]}')"
   ]
  },
  {
   "cell_type": "code",
   "execution_count": 23,
   "id": "1a3969c7",
   "metadata": {},
   "outputs": [],
   "source": [
    "# Rest API = 주소 자체가 POST(게시글)를 가르킴\n",
    "url = 'https://jsonplaceholder.typicode.com/posts/1'\n"
   ]
  },
  {
   "cell_type": "code",
   "execution_count": 24,
   "id": "9d1d5bf0",
   "metadata": {},
   "outputs": [],
   "source": [
    "response = requests.get(url)"
   ]
  },
  {
   "cell_type": "code",
   "execution_count": 25,
   "id": "c16754a4",
   "metadata": {},
   "outputs": [
    {
     "name": "stdout",
     "output_type": "stream",
     "text": [
      "<class 'dict'>\n",
      "title: sunt aut facere repellat provident occaecati excepturi optio reprehenderit\n",
      "body:quia et suscipit\n",
      "suscipit recusandae consequuntur expedita et cum\n",
      "reprehenderit molestiae ut ut quas totam\n",
      "nostrum rerum est autem sunt rem eveniet architecto\n"
     ]
    }
   ],
   "source": [
    "if response.status_code == 200 :\n",
    "    data = response.json() # dict\n",
    "    print(type(data))\n",
    "    print(f'title: {data['title']}')\n",
    "    print(f'body:{data['body']}')\n",
    "else :\n",
    "    print('에러 발생')"
   ]
  },
  {
   "cell_type": "code",
   "execution_count": 26,
   "id": "02bf76dc",
   "metadata": {},
   "outputs": [
    {
     "name": "stdout",
     "output_type": "stream",
     "text": [
      "Collecting beautifulsoup4\n",
      "  Downloading beautifulsoup4-4.13.4-py3-none-any.whl.metadata (3.8 kB)\n",
      "Collecting soupsieve>1.2 (from beautifulsoup4)\n",
      "  Downloading soupsieve-2.7-py3-none-any.whl.metadata (4.6 kB)\n",
      "Collecting typing-extensions>=4.0.0 (from beautifulsoup4)\n",
      "  Downloading typing_extensions-4.14.0-py3-none-any.whl.metadata (3.0 kB)\n",
      "Downloading beautifulsoup4-4.13.4-py3-none-any.whl (187 kB)\n",
      "Downloading soupsieve-2.7-py3-none-any.whl (36 kB)\n",
      "Downloading typing_extensions-4.14.0-py3-none-any.whl (43 kB)\n",
      "Installing collected packages: typing-extensions, soupsieve, beautifulsoup4\n",
      "\n",
      "   ------------- -------------------------- 1/3 [soupsieve]\n",
      "   ------------- -------------------------- 1/3 [soupsieve]\n",
      "   -------------------------- ------------- 2/3 [beautifulsoup4]\n",
      "   -------------------------- ------------- 2/3 [beautifulsoup4]\n",
      "   -------------------------- ------------- 2/3 [beautifulsoup4]\n",
      "   -------------------------- ------------- 2/3 [beautifulsoup4]\n",
      "   -------------------------- ------------- 2/3 [beautifulsoup4]\n",
      "   -------------------------- ------------- 2/3 [beautifulsoup4]\n",
      "   -------------------------- ------------- 2/3 [beautifulsoup4]\n",
      "   -------------------------- ------------- 2/3 [beautifulsoup4]\n",
      "   ---------------------------------------- 3/3 [beautifulsoup4]\n",
      "\n",
      "Successfully installed beautifulsoup4-4.13.4 soupsieve-2.7 typing-extensions-4.14.0\n",
      "Note: you may need to restart the kernel to use updated packages.\n"
     ]
    }
   ],
   "source": [
    "pip install beautifulsoup4"
   ]
  },
  {
   "cell_type": "code",
   "execution_count": 27,
   "id": "caff90c2",
   "metadata": {},
   "outputs": [],
   "source": [
    "from bs4 import BeautifulSoup"
   ]
  },
  {
   "cell_type": "code",
   "execution_count": 29,
   "id": "aeb2caca",
   "metadata": {},
   "outputs": [],
   "source": [
    "html_doc = \"\"\"\n",
    "<html>\n",
    "    <head>\n",
    "        <title>Example Page</title>\n",
    "    </head>\n",
    "    <body>\n",
    "        <h1>Welcome to Web Scraping</h1>\n",
    "        <p class=\"description\">This is an example paragraph.</p>\n",
    "        <a href=\"https://example.com1\">Visit Example1</a>\n",
    "        <a href=\"https://example.com2\">Visit Example2</a>\n",
    "        <a href=\"https://example.com3\">Visit Example3</a>\n",
    "        <a href=\"https://example.com4\">Visit Example4</a>\n",
    "    </body>\n",
    "</html>\n",
    "\"\"\""
   ]
  },
  {
   "cell_type": "code",
   "execution_count": 30,
   "id": "7c6646c4",
   "metadata": {},
   "outputs": [],
   "source": [
    "# BeautifulSoup 객체를 생성\n",
    "soup = BeautifulSoup(html_doc, 'html.parser')"
   ]
  },
  {
   "cell_type": "code",
   "execution_count": 37,
   "id": "5fc4da2a",
   "metadata": {},
   "outputs": [
    {
     "name": "stdout",
     "output_type": "stream",
     "text": [
      "Example Page\n",
      "Welcome to Web Scraping\n",
      "https://example.com1\n",
      "<p class=\"description\">This is an example paragraph.</p>\n",
      "['description']\n"
     ]
    }
   ],
   "source": [
    "print(soup.title.string)\n",
    "print(soup.h1.string)\n",
    "print(soup.a['href'])\n",
    "print(soup.p)\n",
    "print(soup.p['class'])"
   ]
  },
  {
   "cell_type": "code",
   "execution_count": 41,
   "id": "0dfc1cf2",
   "metadata": {},
   "outputs": [
    {
     "name": "stdout",
     "output_type": "stream",
     "text": [
      "<a href=\"https://example.com1\">Visit Example1</a>\n",
      "[<a href=\"https://example.com1\">Visit Example1</a>, <a href=\"https://example.com2\">Visit Example2</a>, <a href=\"https://example.com3\">Visit Example3</a>, <a href=\"https://example.com4\">Visit Example4</a>]\n"
     ]
    }
   ],
   "source": [
    "# find(tag), find_all(tag)\n",
    "a_tag = soup.find('a')\n",
    "print(a_tag)\n",
    "a_tags = soup.find_all('a')\n",
    "print(a_tags)"
   ]
  },
  {
   "cell_type": "code",
   "execution_count": 42,
   "id": "2de74d32",
   "metadata": {},
   "outputs": [
    {
     "name": "stdout",
     "output_type": "stream",
     "text": [
      "https://example.com1\n",
      "https://example.com2\n",
      "https://example.com3\n",
      "https://example.com4\n",
      "['https://example.com1', 'https://example.com2', 'https://example.com3', 'https://example.com4']\n"
     ]
    }
   ],
   "source": [
    "links = []\n",
    "for a_tag in a_tags:\n",
    "    print(a_tag['href'])\n",
    "    links.append(a_tag['href'])\n",
    "\n",
    "print(links)"
   ]
  },
  {
   "cell_type": "code",
   "execution_count": 43,
   "id": "e0d564dd",
   "metadata": {},
   "outputs": [],
   "source": [
    "html_doc = \"\"\"\n",
    "<html>\n",
    "    <head><title>Example Page</title></head>\n",
    "    <body>\n",
    "        <h1>Welcome to Web Scraping</h1>\n",
    "        <p class=\"description\">This is an example paragraph.</p>\n",
    "        <a href=\"https://example.com\">Visit Example</a>\n",
    "    </body>\n",
    "</html>\n",
    "\"\"\""
   ]
  },
  {
   "cell_type": "code",
   "execution_count": 44,
   "id": "6752240d",
   "metadata": {},
   "outputs": [],
   "source": [
    "soup = BeautifulSoup(html_doc, 'html.parser')"
   ]
  },
  {
   "cell_type": "code",
   "execution_count": 46,
   "id": "e2a1ac7a",
   "metadata": {},
   "outputs": [
    {
     "name": "stdout",
     "output_type": "stream",
     "text": [
      "This is an example paragraph.\n"
     ]
    }
   ],
   "source": [
    "# select_one : class 속성값으로 찾기\n",
    "# . = class, description = class 속성\n",
    "description = soup.select_one('.description')\n",
    "print(description.string)"
   ]
  },
  {
   "cell_type": "code",
   "execution_count": 47,
   "id": "0f224c78",
   "metadata": {},
   "outputs": [],
   "source": [
    "url = \"https://news.ycombinator.com/\""
   ]
  },
  {
   "cell_type": "code",
   "execution_count": 48,
   "id": "9f533d07",
   "metadata": {},
   "outputs": [],
   "source": [
    "response = requests.get(url)"
   ]
  },
  {
   "cell_type": "code",
   "execution_count": 50,
   "id": "36c52073",
   "metadata": {},
   "outputs": [
    {
     "name": "stdout",
     "output_type": "stream",
     "text": [
      "<html lang=\"en\" op=\"news\"><head><meta name=\"referrer\" content=\"origin\"><meta name=\"viewport\" content=\"width=device-width, initial-scale=1.0\"><link rel=\"stylesheet\" type=\"text/css\" href=\"news.css?kc7ZUPIx10J1yMolRDy2\">\n",
      "        <link rel=\"icon\" href=\"y18.svg\">\n",
      "                  <link rel=\"alternate\" type=\"application/rss+xml\" title=\"RSS\" href=\"rss\">\n",
      "        <title>Hacker News</title></head><body><center><table id=\"hnmain\" border=\"0\" cellpadding=\"0\" cellspacing=\"0\" width=\"85%\" bgcolor=\"#f6f6ef\">\n",
      "  \n"
     ]
    }
   ],
   "source": [
    "print(response.text[:500])"
   ]
  },
  {
   "cell_type": "code",
   "execution_count": 51,
   "id": "5a9895e6",
   "metadata": {},
   "outputs": [],
   "source": [
    "soup = BeautifulSoup(response.text,'html.parser')"
   ]
  },
  {
   "cell_type": "code",
   "execution_count": 53,
   "id": "14e87a09",
   "metadata": {},
   "outputs": [
    {
     "name": "stdout",
     "output_type": "stream",
     "text": [
      "[<a href=\"https://news.ycombinator.com\"><img height=\"18\" src=\"y18.svg\" style=\"border:1px white solid; display:block\" width=\"18\"/></a>, <a href=\"news\">Hacker News</a>, <a href=\"newest\">new</a>, <a href=\"front\">past</a>, <a href=\"newcomments\">comments</a>, <a href=\"ask\">ask</a>, <a href=\"show\">show</a>, <a href=\"jobs\">jobs</a>, <a href=\"submit\" rel=\"nofollow\">submit</a>, <a href=\"login?goto=news\">login</a>, <a href=\"vote?id=44281812&amp;how=up&amp;goto=news\" id=\"up_44281812\"><div class=\"votearrow\" title=\"upvote\"></div></a>, <a href=\"https://www.understandingai.org/p/metas-llama-31-can-recall-42-percent\">Meta's Llama 3.1 can recall 42 percent of the first Harry Potter book</a>, <a href=\"from?site=understandingai.org\"><span class=\"sitestr\">understandingai.org</span></a>, <a class=\"hnuser\" href=\"user?id=aspenmayer\">aspenmayer</a>, <a href=\"item?id=44281812\">1 hour ago</a>, <a href=\"hide?id=44281812&amp;goto=news\">hide</a>, <a href=\"item?id=44281812\">28 comments</a>, <a href=\"vote?id=44285521&amp;how=up&amp;goto=news\" id=\"up_44285521\"><div class=\"votearrow\" title=\"upvote\"></div></a>, <a href=\"https://spectrum.ieee.org/sf6-gas-replacement\">A new high-voltage breaker can clear grid-scale faults without greenhouse gas</a>, <a href=\"from?site=ieee.org\"><span class=\"sitestr\">ieee.org</span></a>, <a class=\"hnuser\" href=\"user?id=rbanffy\">rbanffy</a>, <a href=\"item?id=44285521\">3 hours ago</a>, <a href=\"hide?id=44285521&amp;goto=news\">hide</a>, <a href=\"item?id=44285521\">13 comments</a>, <a href=\"vote?id=44282998&amp;how=up&amp;goto=news\" id=\"up_44282998\"><div class=\"votearrow\" title=\"upvote\"></div></a>, <a href=\"https://www.downtowndougbrown.com/2025/06/modifying-an-hdmi-dummy-plugs-edid-using-a-raspberry-pi/\">Modifying an HDMI dummy plug's EDID using a Raspberry Pi</a>, <a href=\"from?site=downtowndougbrown.com\"><span class=\"sitestr\">downtowndougbrown.com</span></a>, <a class=\"hnuser\" href=\"user?id=zdw\">zdw</a>, <a href=\"item?id=44282998\">10 hours ago</a>, <a href=\"hide?id=44282998&amp;goto=news\">hide</a>, <a href=\"item?id=44282998\">51 comments</a>, <a href=\"vote?id=44284466&amp;how=up&amp;goto=news\" id=\"up_44284466\"><div class=\"votearrow\" title=\"upvote\"></div></a>, <a href=\"https://telephone-exchanges.org.uk/\">Telephone Exchanges in the UK</a>, <a href=\"from?site=telephone-exchanges.org.uk\"><span class=\"sitestr\">telephone-exchanges.org.uk</span></a>, <a class=\"hnuser\" href=\"user?id=petecooper\">petecooper</a>, <a href=\"item?id=44284466\">7 hours ago</a>, <a href=\"hide?id=44284466&amp;goto=news\">hide</a>, <a href=\"item?id=44284466\">32 comments</a>, <a href=\"vote?id=44275679&amp;how=up&amp;goto=news\" id=\"up_44275679\"><div class=\"votearrow\" title=\"upvote\"></div></a>, <a href=\"https://lisp-stat.dev/about/\">Lisp-stat: Lisp environment for statistical computing</a>, <a href=\"from?site=lisp-stat.dev\"><span class=\"sitestr\">lisp-stat.dev</span></a>, <a class=\"hnuser\" href=\"user?id=oumua_don17\">oumua_don17</a>, <a href=\"item?id=44275679\">3 hours ago</a>, <a href=\"hide?id=44275679&amp;goto=news\">hide</a>, <a href=\"item?id=44275679\">2 comments</a>, <a href=\"vote?id=44284657&amp;how=up&amp;goto=news\" id=\"up_44284657\"><div class=\"votearrow\" title=\"upvote\"></div></a>, <a href=\"https://github.com/cosmos72/twin\">Twin – A Textmode WINdow Environment</a>, <a href=\"from?site=github.com/cosmos72\"><span class=\"sitestr\">github.com/cosmos72</span></a>, <a class=\"hnuser\" href=\"user?id=kim_rutherford\">kim_rutherford</a>, <a href=\"item?id=44284657\">6 hours ago</a>, <a href=\"hide?id=44284657&amp;goto=news\">hide</a>, <a href=\"item?id=44284657\">9 comments</a>, <a href=\"vote?id=44282177&amp;how=up&amp;goto=news\" id=\"up_44282177\"><div class=\"votearrow\" title=\"upvote\"></div></a>, <a href=\"https://canyonmid.com/\">Canyon.mid</a>, <a href=\"from?site=canyonmid.com\"><span class=\"sitestr\">canyonmid.com</span></a>, <a class=\"hnuser\" href=\"user?id=LorenDB\">LorenDB</a>, <a href=\"item?id=44282177\">13 hours ago</a>, <a href=\"hide?id=44282177&amp;goto=news\">hide</a>, <a href=\"item?id=44282177\">138 comments</a>, <a href=\"vote?id=44282378&amp;how=up&amp;goto=news\" id=\"up_44282378\"><div class=\"votearrow\" title=\"upvote\"></div></a>, <a href=\"https://tim.dierks.org/2014/05/security-standards-and-name-changes-in.html\">Why SSL was renamed to TLS in late 90s (2014)</a>, <a href=\"from?site=dierks.org\"><span class=\"sitestr\">dierks.org</span></a>, <a class=\"hnuser\" href=\"user?id=Bogdanp\">Bogdanp</a>, <a href=\"item?id=44282378\">12 hours ago</a>, <a href=\"hide?id=44282378&amp;goto=news\">hide</a>, <a href=\"item?id=44282378\">89 comments</a>, <a href=\"vote?id=44275471&amp;how=up&amp;goto=news\" id=\"up_44275471\"><div class=\"votearrow\" title=\"upvote\"></div></a>, <a href=\"https://www.nature.com/articles/s41557-025-01815-x\">Chemical knowledge and reasoning of large language models vs. chemist expertise</a>, <a href=\"from?site=nature.com\"><span class=\"sitestr\">nature.com</span></a>, <a class=\"hnuser\" href=\"user?id=bookofjoe\">bookofjoe</a>, <a href=\"item?id=44275471\">4 hours ago</a>, <a href=\"hide?id=44275471&amp;goto=news\">hide</a>, <a href=\"item?id=44275471\">2 comments</a>, <a href=\"vote?id=44282143&amp;how=up&amp;goto=news\" id=\"up_44282143\"><div class=\"votearrow\" title=\"upvote\"></div></a>, <a href=\"https://ourworldindata.org/childhood-leukemia-treatment-history\">Childhood leukemia: how a deadly cancer became treatable</a>, <a href=\"from?site=ourworldindata.org\"><span class=\"sitestr\">ourworldindata.org</span></a>, <a class=\"hnuser\" href=\"user?id=surprisetalk\">surprisetalk</a>, <a href=\"item?id=44282143\">13 hours ago</a>, <a href=\"hide?id=44282143&amp;goto=news\">hide</a>, <a href=\"item?id=44282143\">39 comments</a>, <a href=\"vote?id=44261118&amp;how=up&amp;goto=news\" id=\"up_44261118\"><div class=\"votearrow\" title=\"upvote\"></div></a>, <a href=\"https://www.psu.edu/news/research/story/worlds-first-2d-non-silicon-computer-developed\">First 2D, non-silicon computer developed</a>, <a href=\"from?site=psu.edu\"><span class=\"sitestr\">psu.edu</span></a>, <a class=\"hnuser\" href=\"user?id=giuliomagnifico\">giuliomagnifico</a>, <a href=\"item?id=44261118\">8 hours ago</a>, <a href=\"hide?id=44261118&amp;goto=news\">hide</a>, <a href=\"item?id=44261118\">13 comments</a>, <a href=\"vote?id=44285440&amp;how=up&amp;goto=news\" id=\"up_44285440\"><div class=\"votearrow\" title=\"upvote\"></div></a>, <a href=\"https://www.darpa.mil/news/2025/darpa-program-distance-record-power-beaming\">DARPA program sets distance record for power beaming</a>, <a href=\"from?site=darpa.mil\"><span class=\"sitestr\">darpa.mil</span></a>, <a class=\"hnuser\" href=\"user?id=gnabgib\">gnabgib</a>, <a href=\"item?id=44285440\">4 hours ago</a>, <a href=\"hide?id=44285440&amp;goto=news\">hide</a>, <a href=\"item?id=44285440\">8 comments</a>, <a href=\"vote?id=44281727&amp;how=up&amp;goto=news\" id=\"up_44281727\"><div class=\"votearrow\" title=\"upvote\"></div></a>, <a href=\"https://github.com/frankmcsherry/blog/blob/master/posts/2025-06-03.md\">Datalog in Rust</a>, <a href=\"from?site=github.com/frankmcsherry\"><span class=\"sitestr\">github.com/frankmcsherry</span></a>, <a class=\"hnuser\" href=\"user?id=brson\">brson</a>, <a href=\"item?id=44281727\">15 hours ago</a>, <a href=\"hide?id=44281727&amp;goto=news\">hide</a>, <a href=\"item?id=44281727\">25 comments</a>, <a href=\"vote?id=44283093&amp;how=up&amp;goto=news\" id=\"up_44283093\"><div class=\"votearrow\" title=\"upvote\"></div></a>, <a href=\"https://deosjr.github.io/dynamicland/datalog.html\">Datalog in miniKanren</a>, <a href=\"from?site=deosjr.github.io\"><span class=\"sitestr\">deosjr.github.io</span></a>, <a class=\"hnuser\" href=\"user?id=deosjr\">deosjr</a>, <a href=\"item?id=44283093\">10 hours ago</a>, <a href=\"hide?id=44283093&amp;goto=news\">hide</a>, <a href=\"item?id=44283093\">8 comments</a>, <a href=\"vote?id=44282017&amp;how=up&amp;goto=news\" id=\"up_44282017\"><div class=\"votearrow\" title=\"upvote\"></div></a>, <a href=\"https://olegkutkov.me/2025/06/15/how-to-modify-starlink-mini-to-run-without-the-built-in-wifi-router/\">How to modify Starlink Mini to run without the built-in WiFi router</a>, <a href=\"from?site=olegkutkov.me\"><span class=\"sitestr\">olegkutkov.me</span></a>, <a class=\"hnuser\" href=\"user?id=LorenDB\">LorenDB</a>, <a href=\"item?id=44282017\">14 hours ago</a>, <a href=\"hide?id=44282017&amp;goto=news\">hide</a>, <a href=\"item?id=44282017\">72 comments</a>, <a href=\"vote?id=44283614&amp;how=up&amp;goto=news\" id=\"up_44283614\"><div class=\"votearrow\" title=\"upvote\"></div></a>, <a href=\"https://blog.kowalczyk.info/a-stsj/simplest-c-callback-from-sumatrapdf.html\">Simplest C++ Callback, from SumatraPDF</a>, <a href=\"from?site=kowalczyk.info\"><span class=\"sitestr\">kowalczyk.info</span></a>, <a class=\"hnuser\" href=\"user?id=jandeboevrie\">jandeboevrie</a>, <a href=\"item?id=44283614\">9 hours ago</a>, <a href=\"hide?id=44283614&amp;goto=news\">hide</a>, <a href=\"item?id=44283614\">63 comments</a>, <a href=\"vote?id=44285426&amp;how=up&amp;goto=news\" id=\"up_44285426\"><div class=\"votearrow\" title=\"upvote\"></div></a>, <a href=\"https://default.blog/p/lets-talk-about-chatgpt-induced-spiritual\">Let's Talk About ChatGPT-Induced Spiritual Psychosis</a>, <a href=\"from?site=default.blog\"><span class=\"sitestr\">default.blog</span></a>, <a class=\"hnuser\" href=\"user?id=greenie_beans\">greenie_beans</a>, <a href=\"item?id=44285426\">4 hours ago</a>, <a href=\"hide?id=44285426&amp;goto=news\">hide</a>, <a href=\"item?id=44285426\">6 comments</a>, <a href=\"vote?id=44285054&amp;how=up&amp;goto=news\" id=\"up_44285054\"><div class=\"votearrow\" title=\"upvote\"></div></a>, <a href=\"https://www.thetimes.com/life-style/celebrity/article/david-attenborough-book-extract-age-99-lj3rd2fg7\">David Attenborough at 99: 'I will not see how the story ends'</a>, <a href=\"from?site=thetimes.com\"><span class=\"sitestr\">thetimes.com</span></a>, <a class=\"hnuser\" href=\"user?id=herbertl\">herbertl</a>, <a href=\"item?id=44285054\">5 hours ago</a>, <a href=\"hide?id=44285054&amp;goto=news\">hide</a>, <a href=\"item?id=44285054\">58 comments</a>, <a href=\"vote?id=44255867&amp;how=up&amp;goto=news\" id=\"up_44255867\"><div class=\"votearrow\" title=\"upvote\"></div></a>, <a href=\"https://spectrum.ieee.org/embryo-electrode-array\">Cyborg Embryos Offer New Insights into Brain Growth</a>, <a href=\"from?site=ieee.org\"><span class=\"sitestr\">ieee.org</span></a>, <a class=\"hnuser\" href=\"user?id=rbanffy\">rbanffy</a>, <a href=\"item?id=44255867\">6 hours ago</a>, <a href=\"hide?id=44255867&amp;goto=news\">hide</a>, <a href=\"item?id=44255867\">discuss</a>, <a href=\"vote?id=44274435&amp;how=up&amp;goto=news\" id=\"up_44274435\"><div class=\"votearrow\" title=\"upvote\"></div></a>, <a href=\"https://kellenok.github.io/cure-script/\">Cure Dolly's Japanese Grammar Lessons</a>, <a href=\"from?site=kellenok.github.io\"><span class=\"sitestr\">kellenok.github.io</span></a>, <a class=\"hnuser\" href=\"user?id=agnishom\">agnishom</a>, <a href=\"item?id=44274435\">7 hours ago</a>, <a href=\"hide?id=44274435&amp;goto=news\">hide</a>, <a href=\"item?id=44274435\">11 comments</a>, <a href=\"vote?id=44257422&amp;how=up&amp;goto=news\" id=\"up_44257422\"><div class=\"votearrow\" title=\"upvote\"></div></a>, <a href=\"https://www.smithsonianmag.com/smart-news/massive-field-where-native-american-farmers-grew-corn-beans-and-squash-1000-years-ago-discovered-in-michigan-180986758/\">Fields where Native Americans farmed a thousand years ago discovered in Michigan</a>, <a href=\"from?site=smithsonianmag.com\"><span class=\"sitestr\">smithsonianmag.com</span></a>, <a class=\"hnuser\" href=\"user?id=CoopaTroopa\">CoopaTroopa</a>, <a href=\"item?id=44257422\">16 hours ago</a>, <a href=\"hide?id=44257422&amp;goto=news\">hide</a>, <a href=\"item?id=44257422\">66 comments</a>, <a href=\"vote?id=44284723&amp;how=up&amp;goto=news\" id=\"up_44284723\"><div class=\"votearrow\" title=\"upvote\"></div></a>, <a href=\"https://thehustle.co/why-its-nearly-impossible-to-buy-an-original-bob-ross-painting\">It’s nearly impossible to buy an original Bob Ross painting (2021)</a>, <a href=\"from?site=thehustle.co\"><span class=\"sitestr\">thehustle.co</span></a>, <a class=\"hnuser\" href=\"user?id=rmason\">rmason</a>, <a href=\"item?id=44284723\">6 hours ago</a>, <a href=\"hide?id=44284723&amp;goto=news\">hide</a>, <a href=\"item?id=44284723\">105 comments</a>, <a href=\"vote?id=44284592&amp;how=up&amp;goto=news\" id=\"up_44284592\"><div class=\"votearrow\" title=\"upvote\"></div></a>, <a href=\"https://pypy.org/posts/2025/06/rpython-gc-allocation-speed.html\">How fast can the RPython GC allocate?</a>, <a href=\"from?site=pypy.org\"><span class=\"sitestr\">pypy.org</span></a>, <a class=\"hnuser\" href=\"user?id=todsacerdoti\">todsacerdoti</a>, <a href=\"item?id=44284592\">7 hours ago</a>, <a href=\"hide?id=44284592&amp;goto=news\">hide</a>, <a href=\"item?id=44284592\">7 comments</a>, <a href=\"vote?id=44281506&amp;how=up&amp;goto=news\" id=\"up_44281506\"><div class=\"votearrow\" title=\"upvote\"></div></a>, <a href=\"https://visionbook.mit.edu\">Foundations of Computer Vision</a>, <a href=\"from?site=visionbook.mit.edu\"><span class=\"sitestr\">visionbook.mit.edu</span></a>, <a class=\"hnuser\" href=\"user?id=tzury\">tzury</a>, <a href=\"item?id=44281506\">16 hours ago</a>, <a href=\"hide?id=44281506&amp;goto=news\">hide</a>, <a href=\"item?id=44281506\">6 comments</a>, <a href=\"vote?id=44284594&amp;how=up&amp;goto=news\" id=\"up_44284594\"><div class=\"votearrow\" title=\"upvote\"></div></a>, <a href=\"https://www.openculture.com/2018/08/hobo-code-introduction-hieroglyphic-language-early-1900s-train-hoppers.html\">An Introduction to the Hieroglyphic Language of Early 1900s Train-Hoppers</a>, <a href=\"from?site=openculture.com\"><span class=\"sitestr\">openculture.com</span></a>, <a class=\"hnuser\" href=\"user?id=squircle\">squircle</a>, <a href=\"item?id=44284594\">7 hours ago</a>, <a href=\"hide?id=44284594&amp;goto=news\">hide</a>, <a href=\"item?id=44284594\">3 comments</a>, <a href=\"vote?id=44285392&amp;how=up&amp;goto=news\" id=\"up_44285392\"><div class=\"votearrow\" title=\"upvote\"></div></a>, <a href=\"https://news.kaist.ac.kr/newsen/html/news/?mode=V&amp;mng_no=47450\" rel=\"nofollow\">KAIST Succeeds in Real-Time CO2 Monitoring Without Batteries or External Power</a>, <a href=\"from?site=kaist.ac.kr\"><span class=\"sitestr\">kaist.ac.kr</span></a>, <a class=\"hnuser\" href=\"user?id=gnabgib\">gnabgib</a>, <a href=\"item?id=44285392\">4 hours ago</a>, <a href=\"hide?id=44285392&amp;goto=news\">hide</a>, <a href=\"item?id=44285392\">1 comment</a>, <a href=\"vote?id=44270247&amp;how=up&amp;goto=news\" id=\"up_44270247\"><div class=\"votearrow\" title=\"upvote\"></div></a>, <a href=\"https://stellarsnap.space\">Show HN: StellarSnap – Explore NASA APODs, simulate orbits, learn astronomy</a>, <a href=\"from?site=stellarsnap.space\"><span class=\"sitestr\">stellarsnap.space</span></a>, <a class=\"hnuser\" href=\"user?id=stellarsnap\">stellarsnap</a>, <a href=\"item?id=44270247\">6 hours ago</a>, <a href=\"hide?id=44270247&amp;goto=news\">hide</a>, <a href=\"item?id=44270247\">discuss</a>, <a href=\"vote?id=44255232&amp;how=up&amp;goto=news\" id=\"up_44255232\"><div class=\"votearrow\" title=\"upvote\"></div></a>, <a href=\"https://ostif.org/ruby-on-rails-audit-complete/\">Ruby on Rails Audit Complete</a>, <a href=\"from?site=ostif.org\"><span class=\"sitestr\">ostif.org</span></a>, <a class=\"hnuser\" href=\"user?id=todsacerdoti\">todsacerdoti</a>, <a href=\"item?id=44255232\">19 hours ago</a>, <a href=\"hide?id=44255232&amp;goto=news\">hide</a>, <a href=\"item?id=44255232\">139 comments</a>, <a href=\"vote?id=44283239&amp;how=up&amp;goto=news\" id=\"up_44283239\"><div class=\"votearrow\" title=\"upvote\"></div></a>, <a href=\"https://strangemachine.tv/safespace/popov/\">The experience continues until you stop experiencing it</a>, <a href=\"from?site=strangemachine.tv\"><span class=\"sitestr\">strangemachine.tv</span></a>, <a class=\"hnuser\" href=\"user?id=durakot\">durakot</a>, <a href=\"item?id=44283239\">10 hours ago</a>, <a href=\"hide?id=44283239&amp;goto=news\">hide</a>, <a href=\"item?id=44283239\">20 comments</a>, <a href=\"vote?id=44281016&amp;how=up&amp;goto=news\" id=\"up_44281016\"><div class=\"votearrow\" title=\"upvote\"></div></a>, <a href=\"https://www.dreamsongs.com/ArtOfLisp.html\">The Art of Lisp and Writing (2003)</a>, <a href=\"from?site=dreamsongs.com\"><span class=\"sitestr\">dreamsongs.com</span></a>, <a class=\"hnuser\" href=\"user?id=Bogdanp\">Bogdanp</a>, <a href=\"item?id=44281016\">19 hours ago</a>, <a href=\"hide?id=44281016&amp;goto=news\">hide</a>, <a href=\"item?id=44281016\">66 comments</a>, <a class=\"morelink\" href=\"?p=2\" rel=\"next\">More</a>, <a href=\"https://www.ycombinator.com/apply/\">Consider applying for YC's Fall 2025 batch! Applications are open till Aug 4</a>, <a href=\"newsguidelines.html\">Guidelines</a>, <a href=\"newsfaq.html\">FAQ</a>, <a href=\"lists\">Lists</a>, <a href=\"https://github.com/HackerNews/API\">API</a>, <a href=\"security.html\">Security</a>, <a href=\"https://www.ycombinator.com/legal/\">Legal</a>, <a href=\"https://www.ycombinator.com/apply/\">Apply to YC</a>, <a href=\"mailto:hn@ycombinator.com\">Contact</a>]\n"
     ]
    }
   ],
   "source": [
    "print(soup.find_all('a'))"
   ]
  },
  {
   "cell_type": "code",
   "execution_count": 54,
   "id": "cf152612",
   "metadata": {},
   "outputs": [
    {
     "name": "stdout",
     "output_type": "stream",
     "text": [
      "\n",
      "https://news.ycombinator.com\n",
      "Hacker News\n",
      "news\n",
      "new\n",
      "newest\n",
      "past\n",
      "front\n",
      "comments\n",
      "newcomments\n",
      "ask\n",
      "ask\n",
      "show\n",
      "show\n",
      "jobs\n",
      "jobs\n",
      "submit\n",
      "submit\n",
      "login\n",
      "login?goto=news\n",
      "\n",
      "vote?id=44281812&how=up&goto=news\n",
      "Meta's Llama 3.1 can recall 42 percent of the first Harry Potter book\n",
      "https://www.understandingai.org/p/metas-llama-31-can-recall-42-percent\n",
      "understandingai.org\n",
      "from?site=understandingai.org\n",
      "aspenmayer\n",
      "user?id=aspenmayer\n",
      "1 hour ago\n",
      "item?id=44281812\n",
      "hide\n",
      "hide?id=44281812&goto=news\n",
      "28 comments\n",
      "item?id=44281812\n",
      "\n",
      "vote?id=44285521&how=up&goto=news\n",
      "A new high-voltage breaker can clear grid-scale faults without greenhouse gas\n",
      "https://spectrum.ieee.org/sf6-gas-replacement\n",
      "ieee.org\n",
      "from?site=ieee.org\n",
      "rbanffy\n",
      "user?id=rbanffy\n",
      "3 hours ago\n",
      "item?id=44285521\n",
      "hide\n",
      "hide?id=44285521&goto=news\n",
      "13 comments\n",
      "item?id=44285521\n",
      "\n",
      "vote?id=44282998&how=up&goto=news\n",
      "Modifying an HDMI dummy plug's EDID using a Raspberry Pi\n",
      "https://www.downtowndougbrown.com/2025/06/modifying-an-hdmi-dummy-plugs-edid-using-a-raspberry-pi/\n",
      "downtowndougbrown.com\n",
      "from?site=downtowndougbrown.com\n",
      "zdw\n",
      "user?id=zdw\n",
      "10 hours ago\n",
      "item?id=44282998\n",
      "hide\n",
      "hide?id=44282998&goto=news\n",
      "51 comments\n",
      "item?id=44282998\n",
      "\n",
      "vote?id=44284466&how=up&goto=news\n",
      "Telephone Exchanges in the UK\n",
      "https://telephone-exchanges.org.uk/\n",
      "telephone-exchanges.org.uk\n",
      "from?site=telephone-exchanges.org.uk\n",
      "petecooper\n",
      "user?id=petecooper\n",
      "7 hours ago\n",
      "item?id=44284466\n",
      "hide\n",
      "hide?id=44284466&goto=news\n",
      "32 comments\n",
      "item?id=44284466\n",
      "\n",
      "vote?id=44275679&how=up&goto=news\n",
      "Lisp-stat: Lisp environment for statistical computing\n",
      "https://lisp-stat.dev/about/\n",
      "lisp-stat.dev\n",
      "from?site=lisp-stat.dev\n",
      "oumua_don17\n",
      "user?id=oumua_don17\n",
      "3 hours ago\n",
      "item?id=44275679\n",
      "hide\n",
      "hide?id=44275679&goto=news\n",
      "2 comments\n",
      "item?id=44275679\n",
      "\n",
      "vote?id=44284657&how=up&goto=news\n",
      "Twin – A Textmode WINdow Environment\n",
      "https://github.com/cosmos72/twin\n",
      "github.com/cosmos72\n",
      "from?site=github.com/cosmos72\n",
      "kim_rutherford\n",
      "user?id=kim_rutherford\n",
      "6 hours ago\n",
      "item?id=44284657\n",
      "hide\n",
      "hide?id=44284657&goto=news\n",
      "9 comments\n",
      "item?id=44284657\n",
      "\n",
      "vote?id=44282177&how=up&goto=news\n",
      "Canyon.mid\n",
      "https://canyonmid.com/\n",
      "canyonmid.com\n",
      "from?site=canyonmid.com\n",
      "LorenDB\n",
      "user?id=LorenDB\n",
      "13 hours ago\n",
      "item?id=44282177\n",
      "hide\n",
      "hide?id=44282177&goto=news\n",
      "138 comments\n",
      "item?id=44282177\n",
      "\n",
      "vote?id=44282378&how=up&goto=news\n",
      "Why SSL was renamed to TLS in late 90s (2014)\n",
      "https://tim.dierks.org/2014/05/security-standards-and-name-changes-in.html\n",
      "dierks.org\n",
      "from?site=dierks.org\n",
      "Bogdanp\n",
      "user?id=Bogdanp\n",
      "12 hours ago\n",
      "item?id=44282378\n",
      "hide\n",
      "hide?id=44282378&goto=news\n",
      "89 comments\n",
      "item?id=44282378\n",
      "\n",
      "vote?id=44275471&how=up&goto=news\n",
      "Chemical knowledge and reasoning of large language models vs. chemist expertise\n",
      "https://www.nature.com/articles/s41557-025-01815-x\n",
      "nature.com\n",
      "from?site=nature.com\n",
      "bookofjoe\n",
      "user?id=bookofjoe\n",
      "4 hours ago\n",
      "item?id=44275471\n",
      "hide\n",
      "hide?id=44275471&goto=news\n",
      "2 comments\n",
      "item?id=44275471\n",
      "\n",
      "vote?id=44282143&how=up&goto=news\n",
      "Childhood leukemia: how a deadly cancer became treatable\n",
      "https://ourworldindata.org/childhood-leukemia-treatment-history\n",
      "ourworldindata.org\n",
      "from?site=ourworldindata.org\n",
      "surprisetalk\n",
      "user?id=surprisetalk\n",
      "13 hours ago\n",
      "item?id=44282143\n",
      "hide\n",
      "hide?id=44282143&goto=news\n",
      "39 comments\n",
      "item?id=44282143\n",
      "\n",
      "vote?id=44261118&how=up&goto=news\n",
      "First 2D, non-silicon computer developed\n",
      "https://www.psu.edu/news/research/story/worlds-first-2d-non-silicon-computer-developed\n",
      "psu.edu\n",
      "from?site=psu.edu\n",
      "giuliomagnifico\n",
      "user?id=giuliomagnifico\n",
      "8 hours ago\n",
      "item?id=44261118\n",
      "hide\n",
      "hide?id=44261118&goto=news\n",
      "13 comments\n",
      "item?id=44261118\n",
      "\n",
      "vote?id=44285440&how=up&goto=news\n",
      "DARPA program sets distance record for power beaming\n",
      "https://www.darpa.mil/news/2025/darpa-program-distance-record-power-beaming\n",
      "darpa.mil\n",
      "from?site=darpa.mil\n",
      "gnabgib\n",
      "user?id=gnabgib\n",
      "4 hours ago\n",
      "item?id=44285440\n",
      "hide\n",
      "hide?id=44285440&goto=news\n",
      "8 comments\n",
      "item?id=44285440\n",
      "\n",
      "vote?id=44281727&how=up&goto=news\n",
      "Datalog in Rust\n",
      "https://github.com/frankmcsherry/blog/blob/master/posts/2025-06-03.md\n",
      "github.com/frankmcsherry\n",
      "from?site=github.com/frankmcsherry\n",
      "brson\n",
      "user?id=brson\n",
      "15 hours ago\n",
      "item?id=44281727\n",
      "hide\n",
      "hide?id=44281727&goto=news\n",
      "25 comments\n",
      "item?id=44281727\n",
      "\n",
      "vote?id=44283093&how=up&goto=news\n",
      "Datalog in miniKanren\n",
      "https://deosjr.github.io/dynamicland/datalog.html\n",
      "deosjr.github.io\n",
      "from?site=deosjr.github.io\n",
      "deosjr\n",
      "user?id=deosjr\n",
      "10 hours ago\n",
      "item?id=44283093\n",
      "hide\n",
      "hide?id=44283093&goto=news\n",
      "8 comments\n",
      "item?id=44283093\n",
      "\n",
      "vote?id=44282017&how=up&goto=news\n",
      "How to modify Starlink Mini to run without the built-in WiFi router\n",
      "https://olegkutkov.me/2025/06/15/how-to-modify-starlink-mini-to-run-without-the-built-in-wifi-router/\n",
      "olegkutkov.me\n",
      "from?site=olegkutkov.me\n",
      "LorenDB\n",
      "user?id=LorenDB\n",
      "14 hours ago\n",
      "item?id=44282017\n",
      "hide\n",
      "hide?id=44282017&goto=news\n",
      "72 comments\n",
      "item?id=44282017\n",
      "\n",
      "vote?id=44283614&how=up&goto=news\n",
      "Simplest C++ Callback, from SumatraPDF\n",
      "https://blog.kowalczyk.info/a-stsj/simplest-c-callback-from-sumatrapdf.html\n",
      "kowalczyk.info\n",
      "from?site=kowalczyk.info\n",
      "jandeboevrie\n",
      "user?id=jandeboevrie\n",
      "9 hours ago\n",
      "item?id=44283614\n",
      "hide\n",
      "hide?id=44283614&goto=news\n",
      "63 comments\n",
      "item?id=44283614\n",
      "\n",
      "vote?id=44285426&how=up&goto=news\n",
      "Let's Talk About ChatGPT-Induced Spiritual Psychosis\n",
      "https://default.blog/p/lets-talk-about-chatgpt-induced-spiritual\n",
      "default.blog\n",
      "from?site=default.blog\n",
      "greenie_beans\n",
      "user?id=greenie_beans\n",
      "4 hours ago\n",
      "item?id=44285426\n",
      "hide\n",
      "hide?id=44285426&goto=news\n",
      "6 comments\n",
      "item?id=44285426\n",
      "\n",
      "vote?id=44285054&how=up&goto=news\n",
      "David Attenborough at 99: 'I will not see how the story ends'\n",
      "https://www.thetimes.com/life-style/celebrity/article/david-attenborough-book-extract-age-99-lj3rd2fg7\n",
      "thetimes.com\n",
      "from?site=thetimes.com\n",
      "herbertl\n",
      "user?id=herbertl\n",
      "5 hours ago\n",
      "item?id=44285054\n",
      "hide\n",
      "hide?id=44285054&goto=news\n",
      "58 comments\n",
      "item?id=44285054\n",
      "\n",
      "vote?id=44255867&how=up&goto=news\n",
      "Cyborg Embryos Offer New Insights into Brain Growth\n",
      "https://spectrum.ieee.org/embryo-electrode-array\n",
      "ieee.org\n",
      "from?site=ieee.org\n",
      "rbanffy\n",
      "user?id=rbanffy\n",
      "6 hours ago\n",
      "item?id=44255867\n",
      "hide\n",
      "hide?id=44255867&goto=news\n",
      "discuss\n",
      "item?id=44255867\n",
      "\n",
      "vote?id=44274435&how=up&goto=news\n",
      "Cure Dolly's Japanese Grammar Lessons\n",
      "https://kellenok.github.io/cure-script/\n",
      "kellenok.github.io\n",
      "from?site=kellenok.github.io\n",
      "agnishom\n",
      "user?id=agnishom\n",
      "7 hours ago\n",
      "item?id=44274435\n",
      "hide\n",
      "hide?id=44274435&goto=news\n",
      "11 comments\n",
      "item?id=44274435\n",
      "\n",
      "vote?id=44257422&how=up&goto=news\n",
      "Fields where Native Americans farmed a thousand years ago discovered in Michigan\n",
      "https://www.smithsonianmag.com/smart-news/massive-field-where-native-american-farmers-grew-corn-beans-and-squash-1000-years-ago-discovered-in-michigan-180986758/\n",
      "smithsonianmag.com\n",
      "from?site=smithsonianmag.com\n",
      "CoopaTroopa\n",
      "user?id=CoopaTroopa\n",
      "16 hours ago\n",
      "item?id=44257422\n",
      "hide\n",
      "hide?id=44257422&goto=news\n",
      "66 comments\n",
      "item?id=44257422\n",
      "\n",
      "vote?id=44284723&how=up&goto=news\n",
      "It’s nearly impossible to buy an original Bob Ross painting (2021)\n",
      "https://thehustle.co/why-its-nearly-impossible-to-buy-an-original-bob-ross-painting\n",
      "thehustle.co\n",
      "from?site=thehustle.co\n",
      "rmason\n",
      "user?id=rmason\n",
      "6 hours ago\n",
      "item?id=44284723\n",
      "hide\n",
      "hide?id=44284723&goto=news\n",
      "105 comments\n",
      "item?id=44284723\n",
      "\n",
      "vote?id=44284592&how=up&goto=news\n",
      "How fast can the RPython GC allocate?\n",
      "https://pypy.org/posts/2025/06/rpython-gc-allocation-speed.html\n",
      "pypy.org\n",
      "from?site=pypy.org\n",
      "todsacerdoti\n",
      "user?id=todsacerdoti\n",
      "7 hours ago\n",
      "item?id=44284592\n",
      "hide\n",
      "hide?id=44284592&goto=news\n",
      "7 comments\n",
      "item?id=44284592\n",
      "\n",
      "vote?id=44281506&how=up&goto=news\n",
      "Foundations of Computer Vision\n",
      "https://visionbook.mit.edu\n",
      "visionbook.mit.edu\n",
      "from?site=visionbook.mit.edu\n",
      "tzury\n",
      "user?id=tzury\n",
      "16 hours ago\n",
      "item?id=44281506\n",
      "hide\n",
      "hide?id=44281506&goto=news\n",
      "6 comments\n",
      "item?id=44281506\n",
      "\n",
      "vote?id=44284594&how=up&goto=news\n",
      "An Introduction to the Hieroglyphic Language of Early 1900s Train-Hoppers\n",
      "https://www.openculture.com/2018/08/hobo-code-introduction-hieroglyphic-language-early-1900s-train-hoppers.html\n",
      "openculture.com\n",
      "from?site=openculture.com\n",
      "squircle\n",
      "user?id=squircle\n",
      "7 hours ago\n",
      "item?id=44284594\n",
      "hide\n",
      "hide?id=44284594&goto=news\n",
      "3 comments\n",
      "item?id=44284594\n",
      "\n",
      "vote?id=44285392&how=up&goto=news\n",
      "KAIST Succeeds in Real-Time CO2 Monitoring Without Batteries or External Power\n",
      "https://news.kaist.ac.kr/newsen/html/news/?mode=V&mng_no=47450\n",
      "kaist.ac.kr\n",
      "from?site=kaist.ac.kr\n",
      "gnabgib\n",
      "user?id=gnabgib\n",
      "4 hours ago\n",
      "item?id=44285392\n",
      "hide\n",
      "hide?id=44285392&goto=news\n",
      "1 comment\n",
      "item?id=44285392\n",
      "\n",
      "vote?id=44270247&how=up&goto=news\n",
      "Show HN: StellarSnap – Explore NASA APODs, simulate orbits, learn astronomy\n",
      "https://stellarsnap.space\n",
      "stellarsnap.space\n",
      "from?site=stellarsnap.space\n",
      "stellarsnap\n",
      "user?id=stellarsnap\n",
      "6 hours ago\n",
      "item?id=44270247\n",
      "hide\n",
      "hide?id=44270247&goto=news\n",
      "discuss\n",
      "item?id=44270247\n",
      "\n",
      "vote?id=44255232&how=up&goto=news\n",
      "Ruby on Rails Audit Complete\n",
      "https://ostif.org/ruby-on-rails-audit-complete/\n",
      "ostif.org\n",
      "from?site=ostif.org\n",
      "todsacerdoti\n",
      "user?id=todsacerdoti\n",
      "19 hours ago\n",
      "item?id=44255232\n",
      "hide\n",
      "hide?id=44255232&goto=news\n",
      "139 comments\n",
      "item?id=44255232\n",
      "\n",
      "vote?id=44283239&how=up&goto=news\n",
      "The experience continues until you stop experiencing it\n",
      "https://strangemachine.tv/safespace/popov/\n",
      "strangemachine.tv\n",
      "from?site=strangemachine.tv\n",
      "durakot\n",
      "user?id=durakot\n",
      "10 hours ago\n",
      "item?id=44283239\n",
      "hide\n",
      "hide?id=44283239&goto=news\n",
      "20 comments\n",
      "item?id=44283239\n",
      "\n",
      "vote?id=44281016&how=up&goto=news\n",
      "The Art of Lisp and Writing (2003)\n",
      "https://www.dreamsongs.com/ArtOfLisp.html\n",
      "dreamsongs.com\n",
      "from?site=dreamsongs.com\n",
      "Bogdanp\n",
      "user?id=Bogdanp\n",
      "19 hours ago\n",
      "item?id=44281016\n",
      "hide\n",
      "hide?id=44281016&goto=news\n",
      "66 comments\n",
      "item?id=44281016\n",
      "More\n",
      "?p=2\n",
      "Consider applying for YC's Fall 2025 batch! Applications are open till Aug 4\n",
      "https://www.ycombinator.com/apply/\n",
      "Guidelines\n",
      "newsguidelines.html\n",
      "FAQ\n",
      "newsfaq.html\n",
      "Lists\n",
      "lists\n",
      "API\n",
      "https://github.com/HackerNews/API\n",
      "Security\n",
      "security.html\n",
      "Legal\n",
      "https://www.ycombinator.com/legal/\n",
      "Apply to YC\n",
      "https://www.ycombinator.com/apply/\n",
      "Contact\n",
      "mailto:hn@ycombinator.com\n"
     ]
    }
   ],
   "source": [
    "for item in soup.find_all('a'):\n",
    "    href = item.get('href')\n",
    "    if href : \n",
    "        print(item.get_text(strip=True))\n",
    "        print(href)"
   ]
  },
  {
   "cell_type": "code",
   "execution_count": 55,
   "id": "c2093c9b",
   "metadata": {},
   "outputs": [],
   "source": [
    "url = \"https://news.naver.com/main/list.naver?mode=LSD&mid=sec&sid1=105\""
   ]
  },
  {
   "cell_type": "code",
   "execution_count": 56,
   "id": "2a21f759",
   "metadata": {},
   "outputs": [],
   "source": [
    "# 요청 헤더 설정 (크롤링 방지 우회를 위해 User-Agent 추가)\n",
    "headers = {\n",
    "\"User-Agent\": \"Mozilla/5.0 (Windows NT 10.0; Win64; x64) AppleWebKit/537.36 (KHTML, like Gecko) Chrome/114.0.0.0 Safari/537.36\"\n",
    "}"
   ]
  },
  {
   "cell_type": "code",
   "execution_count": 57,
   "id": "eef67a47",
   "metadata": {},
   "outputs": [],
   "source": [
    "response = requests.get(url, headers=headers)"
   ]
  },
  {
   "cell_type": "code",
   "execution_count": 58,
   "id": "538c1f32",
   "metadata": {},
   "outputs": [],
   "source": [
    "soup = BeautifulSoup(response.text, 'html.parser')"
   ]
  },
  {
   "cell_type": "code",
   "execution_count": 60,
   "id": "fa17bef6",
   "metadata": {},
   "outputs": [],
   "source": [
    "news_items = soup.select(\"ul.type06_headline li dt:not(.photo) a\")"
   ]
  },
  {
   "cell_type": "code",
   "execution_count": 61,
   "id": "6a8bb0d7",
   "metadata": {},
   "outputs": [
    {
     "name": "stdout",
     "output_type": "stream",
     "text": [
      "title KISA, `암호모듈` 개발인력 양성 위한 무료교육 실시\n",
      "href: https://n.news.naver.com/mnews/article/029/0002961598?sid=105\n",
      "title 가민, 제1회 ‘가민 런 코리아’ 개최\n",
      "href: https://n.news.naver.com/mnews/article/014/0005363709?sid=105\n",
      "title 캐논코리아, A3 컬러 레이저 프린터 'LBP811Cx' 출시\n",
      "href: https://n.news.naver.com/mnews/article/014/0005363707?sid=105\n",
      "title Apple Pay to support public transport payments in Korea\n",
      "href: https://n.news.naver.com/mnews/article/640/0000071913?sid=105\n",
      "title 현대차, 해외 법인 'SAP S4/HANA' ERP로 전환···2027년까지 1조 투자\n",
      "href: https://n.news.naver.com/mnews/article/030/0003321996?sid=105\n",
      "title 11년 만에 재독립한 포털 다음⋯사명은 '에이엑스지(AXZ)'\n",
      "href: https://n.news.naver.com/mnews/article/031/0000940470?sid=105\n",
      "title \"2000년대 RPG 감성 재현\"…4세대 MMORPG 노리는 '더 스타라이트'\n",
      "href: https://n.news.naver.com/mnews/article/031/0000940469?sid=105\n",
      "title 스카일로 \"韓 제조사와 파트너십 강화…이통사 협력도\"(종합)\n",
      "href: https://n.news.naver.com/mnews/article/421/0008313858?sid=105\n",
      "title 스카일로 \"한국은 중요한 거점⋯이통사·제조사와 협력 논의 본격화\"\n",
      "href: https://n.news.naver.com/mnews/article/031/0000940468?sid=105\n",
      "title SKT, 이심 신규가입 재개⋯영업중단 43일 만\n",
      "href: https://n.news.naver.com/mnews/article/031/0000940467?sid=105\n"
     ]
    }
   ],
   "source": [
    "for item in news_items:\n",
    "    title = item.get_text(strip=True)\n",
    "    link = item['href']\n",
    "    print('title', title)\n",
    "    print('href:', link)"
   ]
  },
  {
   "cell_type": "code",
   "execution_count": 62,
   "id": "1f068b62",
   "metadata": {},
   "outputs": [
    {
     "name": "stdout",
     "output_type": "stream",
     "text": [
      "Collecting selenium\n",
      "  Downloading selenium-4.33.0-py3-none-any.whl.metadata (7.5 kB)\n",
      "Requirement already satisfied: urllib3~=2.4.0 in c:\\project\\py_project\\.venv\\lib\\site-packages (from urllib3[socks]~=2.4.0->selenium) (2.4.0)\n",
      "Collecting trio~=0.30.0 (from selenium)\n",
      "  Downloading trio-0.30.0-py3-none-any.whl.metadata (8.5 kB)\n",
      "Collecting trio-websocket~=0.12.2 (from selenium)\n",
      "  Downloading trio_websocket-0.12.2-py3-none-any.whl.metadata (5.1 kB)\n",
      "Requirement already satisfied: certifi>=2025.4.26 in c:\\project\\py_project\\.venv\\lib\\site-packages (from selenium) (2025.6.15)\n",
      "Collecting typing_extensions~=4.13.2 (from selenium)\n",
      "  Downloading typing_extensions-4.13.2-py3-none-any.whl.metadata (3.0 kB)\n",
      "Collecting websocket-client~=1.8.0 (from selenium)\n",
      "  Downloading websocket_client-1.8.0-py3-none-any.whl.metadata (8.0 kB)\n",
      "Collecting attrs>=23.2.0 (from trio~=0.30.0->selenium)\n",
      "  Downloading attrs-25.3.0-py3-none-any.whl.metadata (10 kB)\n",
      "Collecting sortedcontainers (from trio~=0.30.0->selenium)\n",
      "  Downloading sortedcontainers-2.4.0-py2.py3-none-any.whl.metadata (10 kB)\n",
      "Requirement already satisfied: idna in c:\\project\\py_project\\.venv\\lib\\site-packages (from trio~=0.30.0->selenium) (3.10)\n",
      "Collecting outcome (from trio~=0.30.0->selenium)\n",
      "  Downloading outcome-1.3.0.post0-py2.py3-none-any.whl.metadata (2.6 kB)\n",
      "Collecting sniffio>=1.3.0 (from trio~=0.30.0->selenium)\n",
      "  Downloading sniffio-1.3.1-py3-none-any.whl.metadata (3.9 kB)\n",
      "Collecting cffi>=1.14 (from trio~=0.30.0->selenium)\n",
      "  Downloading cffi-1.17.1-cp313-cp313-win_amd64.whl.metadata (1.6 kB)\n",
      "Collecting wsproto>=0.14 (from trio-websocket~=0.12.2->selenium)\n",
      "  Downloading wsproto-1.2.0-py3-none-any.whl.metadata (5.6 kB)\n",
      "Collecting pysocks!=1.5.7,<2.0,>=1.5.6 (from urllib3[socks]~=2.4.0->selenium)\n",
      "  Downloading PySocks-1.7.1-py3-none-any.whl.metadata (13 kB)\n",
      "Collecting pycparser (from cffi>=1.14->trio~=0.30.0->selenium)\n",
      "  Downloading pycparser-2.22-py3-none-any.whl.metadata (943 bytes)\n",
      "Collecting h11<1,>=0.9.0 (from wsproto>=0.14->trio-websocket~=0.12.2->selenium)\n",
      "  Downloading h11-0.16.0-py3-none-any.whl.metadata (8.3 kB)\n",
      "Downloading selenium-4.33.0-py3-none-any.whl (9.4 MB)\n",
      "   ---------------------------------------- 0.0/9.4 MB ? eta -:--:--\n",
      "   ---------------- ----------------------- 3.9/9.4 MB 19.8 MB/s eta 0:00:01\n",
      "   --------------------------------- ------ 7.9/9.4 MB 19.4 MB/s eta 0:00:01\n",
      "   ---------------------------------------- 9.4/9.4 MB 17.6 MB/s eta 0:00:00\n",
      "Downloading trio-0.30.0-py3-none-any.whl (499 kB)\n",
      "Downloading trio_websocket-0.12.2-py3-none-any.whl (21 kB)\n",
      "Downloading typing_extensions-4.13.2-py3-none-any.whl (45 kB)\n",
      "Downloading PySocks-1.7.1-py3-none-any.whl (16 kB)\n",
      "Downloading websocket_client-1.8.0-py3-none-any.whl (58 kB)\n",
      "Downloading attrs-25.3.0-py3-none-any.whl (63 kB)\n",
      "Downloading cffi-1.17.1-cp313-cp313-win_amd64.whl (182 kB)\n",
      "Downloading outcome-1.3.0.post0-py2.py3-none-any.whl (10 kB)\n",
      "Downloading sniffio-1.3.1-py3-none-any.whl (10 kB)\n",
      "Downloading wsproto-1.2.0-py3-none-any.whl (24 kB)\n",
      "Downloading h11-0.16.0-py3-none-any.whl (37 kB)\n",
      "Downloading pycparser-2.22-py3-none-any.whl (117 kB)\n",
      "Downloading sortedcontainers-2.4.0-py2.py3-none-any.whl (29 kB)\n",
      "Installing collected packages: sortedcontainers, websocket-client, typing_extensions, sniffio, pysocks, pycparser, h11, attrs, wsproto, outcome, cffi, trio, trio-websocket, selenium\n",
      "\n",
      "   -- -------------------------------------  1/14 [websocket-client]\n",
      "   -- -------------------------------------  1/14 [websocket-client]\n",
      "   -- -------------------------------------  1/14 [websocket-client]\n",
      "   -- -------------------------------------  1/14 [websocket-client]\n",
      "   -- -------------------------------------  1/14 [websocket-client]\n",
      "   -- -------------------------------------  1/14 [websocket-client]\n",
      "  Attempting uninstall: typing_extensions\n",
      "   -- -------------------------------------  1/14 [websocket-client]\n",
      "    Found existing installation: typing_extensions 4.14.0\n",
      "   -- -------------------------------------  1/14 [websocket-client]\n",
      "    Uninstalling typing_extensions-4.14.0:\n",
      "   -- -------------------------------------  1/14 [websocket-client]\n",
      "   ----- ----------------------------------  2/14 [typing_extensions]\n",
      "      Successfully uninstalled typing_extensions-4.14.0\n",
      "   ----- ----------------------------------  2/14 [typing_extensions]\n",
      "   -------- -------------------------------  3/14 [sniffio]\n",
      "   -------------- -------------------------  5/14 [pycparser]\n",
      "   -------------- -------------------------  5/14 [pycparser]\n",
      "   -------------- -------------------------  5/14 [pycparser]\n",
      "   -------------- -------------------------  5/14 [pycparser]\n",
      "   ----------------- ----------------------  6/14 [h11]\n",
      "   ----------------- ----------------------  6/14 [h11]\n",
      "   ----------------- ----------------------  6/14 [h11]\n",
      "   -------------------- -------------------  7/14 [attrs]\n",
      "   -------------------- -------------------  7/14 [attrs]\n",
      "   -------------------- -------------------  7/14 [attrs]\n",
      "   -------------------- -------------------  7/14 [attrs]\n",
      "   ---------------------- -----------------  8/14 [wsproto]\n",
      "   ------------------------- --------------  9/14 [outcome]\n",
      "   ---------------------------- ----------- 10/14 [cffi]\n",
      "   ---------------------------- ----------- 10/14 [cffi]\n",
      "   ---------------------------- ----------- 10/14 [cffi]\n",
      "   ------------------------------- -------- 11/14 [trio]\n",
      "   ------------------------------- -------- 11/14 [trio]\n",
      "   ------------------------------- -------- 11/14 [trio]\n",
      "   ------------------------------- -------- 11/14 [trio]\n",
      "   ------------------------------- -------- 11/14 [trio]\n",
      "   ------------------------------- -------- 11/14 [trio]\n",
      "   ------------------------------- -------- 11/14 [trio]\n",
      "   ------------------------------- -------- 11/14 [trio]\n",
      "   ------------------------------- -------- 11/14 [trio]\n",
      "   ------------------------------- -------- 11/14 [trio]\n",
      "   ------------------------------- -------- 11/14 [trio]\n",
      "   ------------------------------- -------- 11/14 [trio]\n",
      "   ------------------------------- -------- 11/14 [trio]\n",
      "   ------------------------------- -------- 11/14 [trio]\n",
      "   ------------------------------- -------- 11/14 [trio]\n",
      "   ------------------------------- -------- 11/14 [trio]\n",
      "   ------------------------------- -------- 11/14 [trio]\n",
      "   ------------------------------- -------- 11/14 [trio]\n",
      "   ------------------------------- -------- 11/14 [trio]\n",
      "   ------------------------------- -------- 11/14 [trio]\n",
      "   ------------------------------- -------- 11/14 [trio]\n",
      "   ------------------------------- -------- 11/14 [trio]\n",
      "   ------------------------------- -------- 11/14 [trio]\n",
      "   ------------------------------- -------- 11/14 [trio]\n",
      "   ------------------------------- -------- 11/14 [trio]\n",
      "   ------------------------------- -------- 11/14 [trio]\n",
      "   ---------------------------------- ----- 12/14 [trio-websocket]\n",
      "   ------------------------------------- -- 13/14 [selenium]\n",
      "   ------------------------------------- -- 13/14 [selenium]\n",
      "   ------------------------------------- -- 13/14 [selenium]\n",
      "   ------------------------------------- -- 13/14 [selenium]\n",
      "   ------------------------------------- -- 13/14 [selenium]\n",
      "   ------------------------------------- -- 13/14 [selenium]\n",
      "   ------------------------------------- -- 13/14 [selenium]\n",
      "   ------------------------------------- -- 13/14 [selenium]\n",
      "   ------------------------------------- -- 13/14 [selenium]\n",
      "   ------------------------------------- -- 13/14 [selenium]\n",
      "   ------------------------------------- -- 13/14 [selenium]\n",
      "   ------------------------------------- -- 13/14 [selenium]\n",
      "   ------------------------------------- -- 13/14 [selenium]\n",
      "   ------------------------------------- -- 13/14 [selenium]\n",
      "   ------------------------------------- -- 13/14 [selenium]\n",
      "   ------------------------------------- -- 13/14 [selenium]\n",
      "   ------------------------------------- -- 13/14 [selenium]\n",
      "   ------------------------------------- -- 13/14 [selenium]\n",
      "   ------------------------------------- -- 13/14 [selenium]\n",
      "   ------------------------------------- -- 13/14 [selenium]\n",
      "   ------------------------------------- -- 13/14 [selenium]\n",
      "   ------------------------------------- -- 13/14 [selenium]\n",
      "   ------------------------------------- -- 13/14 [selenium]\n",
      "   ------------------------------------- -- 13/14 [selenium]\n",
      "   ------------------------------------- -- 13/14 [selenium]\n",
      "   ------------------------------------- -- 13/14 [selenium]\n",
      "   ------------------------------------- -- 13/14 [selenium]\n",
      "   ------------------------------------- -- 13/14 [selenium]\n",
      "   ------------------------------------- -- 13/14 [selenium]\n",
      "   ------------------------------------- -- 13/14 [selenium]\n",
      "   ------------------------------------- -- 13/14 [selenium]\n",
      "   ------------------------------------- -- 13/14 [selenium]\n",
      "   ------------------------------------- -- 13/14 [selenium]\n",
      "   ------------------------------------- -- 13/14 [selenium]\n",
      "   ------------------------------------- -- 13/14 [selenium]\n",
      "   ------------------------------------- -- 13/14 [selenium]\n",
      "   ------------------------------------- -- 13/14 [selenium]\n",
      "   ------------------------------------- -- 13/14 [selenium]\n",
      "   ------------------------------------- -- 13/14 [selenium]\n",
      "   ------------------------------------- -- 13/14 [selenium]\n",
      "   ------------------------------------- -- 13/14 [selenium]\n",
      "   ------------------------------------- -- 13/14 [selenium]\n",
      "   ------------------------------------- -- 13/14 [selenium]\n",
      "   ------------------------------------- -- 13/14 [selenium]\n",
      "   ------------------------------------- -- 13/14 [selenium]\n",
      "   ---------------------------------------- 14/14 [selenium]\n",
      "\n",
      "Successfully installed attrs-25.3.0 cffi-1.17.1 h11-0.16.0 outcome-1.3.0.post0 pycparser-2.22 pysocks-1.7.1 selenium-4.33.0 sniffio-1.3.1 sortedcontainers-2.4.0 trio-0.30.0 trio-websocket-0.12.2 typing_extensions-4.13.2 websocket-client-1.8.0 wsproto-1.2.0\n",
      "Note: you may need to restart the kernel to use updated packages.\n"
     ]
    }
   ],
   "source": [
    "pip install selenium"
   ]
  },
  {
   "cell_type": "code",
   "execution_count": 65,
   "id": "e096be9f",
   "metadata": {},
   "outputs": [],
   "source": [
    "from selenium import webdriver"
   ]
  },
  {
   "cell_type": "code",
   "execution_count": 70,
   "id": "6ea609fc",
   "metadata": {},
   "outputs": [],
   "source": [
    "# 브라우저 실행\n",
    "driver = webdriver.Chrome()\n",
    "\n",
    "# url\n",
    "driver.get('https://www.google.com')\n",
    "\n",
    "# 브라우저 종료\n",
    "#driver.quit()"
   ]
  },
  {
   "cell_type": "code",
   "execution_count": 71,
   "id": "3fa55f92",
   "metadata": {},
   "outputs": [],
   "source": [
    "from selenium import webdriver\n",
    "from selenium.webdriver.common.by import By\n",
    "from selenium.webdriver.common.keys import Keys\n",
    "import time"
   ]
  },
  {
   "cell_type": "code",
   "execution_count": 78,
   "id": "b67f33bf",
   "metadata": {},
   "outputs": [
    {
     "name": "stdout",
     "output_type": "stream",
     "text": [
      "[<selenium.webdriver.remote.webelement.WebElement (session=\"9d949112261ed3f47ee25a7d80e243cb\", element=\"f.D23E057BA0F49876B1B23C5F17F94C3E.d.A6498A442CD5F8D4C5D79F90B374721E.e.167\")>]\n"
     ]
    }
   ],
   "source": [
    "driver = webdriver.Chrome()\n",
    "\n",
    "driver.get('https://www.google.com')\n",
    "\n",
    "# 검색창 찾기\n",
    "search_box = driver.find_element(By.NAME, 'q')\n",
    "# 검색어\n",
    "search_box.send_keys('python')\n",
    "# 엔터\n",
    "search_box.send_keys(Keys.RETURN)\n",
    "\n",
    "# 결과가 나올때까지 멈춤\n",
    "time.sleep(30)\n",
    "\n",
    "results = driver.find_elements(By.XPATH, '//*[@id=\"rso\"]/div[1]/div/div/div/div/div/div/div/div[1]/div/span/a/h3')\n",
    "print(results)"
   ]
  },
  {
   "cell_type": "code",
   "execution_count": 79,
   "id": "6b394e5e",
   "metadata": {},
   "outputs": [],
   "source": [
    "from selenium import webdriver\n",
    "from selenium.webdriver.common.by import By\n",
    "from selenium.webdriver.common.keys import Keys\n",
    "import time"
   ]
  },
  {
   "cell_type": "code",
   "execution_count": null,
   "id": "87b99f3a",
   "metadata": {},
   "outputs": [],
   "source": [
    "driver = webdriver.Chrome()\n",
    "\n",
    "url = 'https://news.naver.com/main/list.naver?mode=LSD&mid=sec&sid1=105'\n",
    "\n",
    "driver.get(url)\n",
    "\n",
    "# 결과가 나올때까지 멈춤\n",
    "time.sleep(3)\n",
    "\n",
    "results = driver.find_elements(By.CSS_SELECTOR, 'ul.type06_headline li dt:not(.photo) a')\n",
    "\n",
    "print(results)\n",
    "for item in results:\n",
    "    print(item.text)\n",
    "    print(item.get_attribute('href'))\n",
    "\n",
    "driver.quit()"
   ]
  },
  {
   "cell_type": "markdown",
   "id": "64d9bfe9",
   "metadata": {},
   "source": [
    "### 데이터의 저장"
   ]
  },
  {
   "cell_type": "code",
   "execution_count": 82,
   "id": "a1ac82f7",
   "metadata": {},
   "outputs": [],
   "source": [
    "import csv"
   ]
  },
  {
   "cell_type": "code",
   "execution_count": 83,
   "id": "868909fc",
   "metadata": {},
   "outputs": [],
   "source": [
    "# 데이터 준비\n",
    "data = [\n",
    "['Name', 'Age', 'City'],\n",
    "['Alice', 30, 'New York'],\n",
    "['Bob', 25, 'Los Angeles'],\n",
    "['Charlie', 35, 'Chicago']\n",
    "]"
   ]
  },
  {
   "cell_type": "code",
   "execution_count": 84,
   "id": "43d70e62",
   "metadata": {},
   "outputs": [
    {
     "name": "stdout",
     "output_type": "stream",
     "text": [
      "ok!\n"
     ]
    }
   ],
   "source": [
    "with open('data1.csv', mode='w', encoding='utf-8', newline='') as file :\n",
    "    writer = csv.writer(file)\n",
    "    writer.writerows(data)\n",
    "\n",
    "print('ok!')"
   ]
  },
  {
   "cell_type": "code",
   "execution_count": 85,
   "id": "c9b96703",
   "metadata": {},
   "outputs": [],
   "source": [
    "# pandas\n",
    "import pandas as pd"
   ]
  },
  {
   "cell_type": "code",
   "execution_count": 86,
   "id": "ebed7afb",
   "metadata": {},
   "outputs": [
    {
     "name": "stdout",
     "output_type": "stream",
     "text": [
      "      Name  Age         City\n",
      "0    Alice   30     New York\n",
      "1      Bob   25  Los Angeles\n",
      "2  Charlie   35      Chicago\n"
     ]
    }
   ],
   "source": [
    "data = pd.read_csv('data1.csv')\n",
    "print(data)"
   ]
  },
  {
   "cell_type": "code",
   "execution_count": 87,
   "id": "a3aa10b4",
   "metadata": {},
   "outputs": [
    {
     "name": "stdout",
     "output_type": "stream",
     "text": [
      "Collecting openpyxl\n",
      "  Downloading openpyxl-3.1.5-py2.py3-none-any.whl.metadata (2.5 kB)\n",
      "Collecting et-xmlfile (from openpyxl)\n",
      "  Downloading et_xmlfile-2.0.0-py3-none-any.whl.metadata (2.7 kB)\n",
      "Downloading openpyxl-3.1.5-py2.py3-none-any.whl (250 kB)\n",
      "Downloading et_xmlfile-2.0.0-py3-none-any.whl (18 kB)\n",
      "Installing collected packages: et-xmlfile, openpyxl\n",
      "\n",
      "   -------------------- ------------------- 1/2 [openpyxl]\n",
      "   -------------------- ------------------- 1/2 [openpyxl]\n",
      "   -------------------- ------------------- 1/2 [openpyxl]\n",
      "   -------------------- ------------------- 1/2 [openpyxl]\n",
      "   -------------------- ------------------- 1/2 [openpyxl]\n",
      "   -------------------- ------------------- 1/2 [openpyxl]\n",
      "   -------------------- ------------------- 1/2 [openpyxl]\n",
      "   -------------------- ------------------- 1/2 [openpyxl]\n",
      "   -------------------- ------------------- 1/2 [openpyxl]\n",
      "   -------------------- ------------------- 1/2 [openpyxl]\n",
      "   -------------------- ------------------- 1/2 [openpyxl]\n",
      "   -------------------- ------------------- 1/2 [openpyxl]\n",
      "   -------------------- ------------------- 1/2 [openpyxl]\n",
      "   -------------------- ------------------- 1/2 [openpyxl]\n",
      "   -------------------- ------------------- 1/2 [openpyxl]\n",
      "   -------------------- ------------------- 1/2 [openpyxl]\n",
      "   -------------------- ------------------- 1/2 [openpyxl]\n",
      "   -------------------- ------------------- 1/2 [openpyxl]\n",
      "   -------------------- ------------------- 1/2 [openpyxl]\n",
      "   -------------------- ------------------- 1/2 [openpyxl]\n",
      "   -------------------- ------------------- 1/2 [openpyxl]\n",
      "   -------------------- ------------------- 1/2 [openpyxl]\n",
      "   -------------------- ------------------- 1/2 [openpyxl]\n",
      "   -------------------- ------------------- 1/2 [openpyxl]\n",
      "   -------------------- ------------------- 1/2 [openpyxl]\n",
      "   -------------------- ------------------- 1/2 [openpyxl]\n",
      "   -------------------- ------------------- 1/2 [openpyxl]\n",
      "   -------------------- ------------------- 1/2 [openpyxl]\n",
      "   -------------------- ------------------- 1/2 [openpyxl]\n",
      "   -------------------- ------------------- 1/2 [openpyxl]\n",
      "   ---------------------------------------- 2/2 [openpyxl]\n",
      "\n",
      "Successfully installed et-xmlfile-2.0.0 openpyxl-3.1.5\n",
      "Note: you may need to restart the kernel to use updated packages.\n"
     ]
    }
   ],
   "source": [
    "pip install openpyxl"
   ]
  },
  {
   "cell_type": "code",
   "execution_count": 88,
   "id": "d7bb53c2",
   "metadata": {},
   "outputs": [
    {
     "name": "stdout",
     "output_type": "stream",
     "text": [
      "      Name  Age         City\n",
      "0    Alice   30     New York\n",
      "1      Bob   25  Los Angeles\n",
      "2  Charlie   35      Chicago\n"
     ]
    }
   ],
   "source": [
    "# 데이터 준비\n",
    "data = {\n",
    "'Name': ['Alice', 'Bob', 'Charlie'],\n",
    "'Age': [30, 25, 35],\n",
    "'City': ['New York', 'Los Angeles', 'Chicago']\n",
    "}\n",
    "\n",
    "df = pd.DataFrame(data)\n",
    "print(df)"
   ]
  },
  {
   "cell_type": "code",
   "execution_count": 89,
   "id": "8282f1ca",
   "metadata": {},
   "outputs": [
    {
     "name": "stdout",
     "output_type": "stream",
     "text": [
      "ok!\n"
     ]
    }
   ],
   "source": [
    "df.to_excel('data1.xlsx', index=False)\n",
    "print('ok!')"
   ]
  },
  {
   "cell_type": "code",
   "execution_count": 90,
   "id": "6de0b8e2",
   "metadata": {},
   "outputs": [],
   "source": [
    "data2 = pd.read_excel('data1.xlsx')"
   ]
  },
  {
   "cell_type": "code",
   "execution_count": 91,
   "id": "2838d1ce",
   "metadata": {},
   "outputs": [
    {
     "data": {
      "text/html": [
       "<div>\n",
       "<style scoped>\n",
       "    .dataframe tbody tr th:only-of-type {\n",
       "        vertical-align: middle;\n",
       "    }\n",
       "\n",
       "    .dataframe tbody tr th {\n",
       "        vertical-align: top;\n",
       "    }\n",
       "\n",
       "    .dataframe thead th {\n",
       "        text-align: right;\n",
       "    }\n",
       "</style>\n",
       "<table border=\"1\" class=\"dataframe\">\n",
       "  <thead>\n",
       "    <tr style=\"text-align: right;\">\n",
       "      <th></th>\n",
       "      <th>Name</th>\n",
       "      <th>Age</th>\n",
       "      <th>City</th>\n",
       "    </tr>\n",
       "  </thead>\n",
       "  <tbody>\n",
       "    <tr>\n",
       "      <th>0</th>\n",
       "      <td>Alice</td>\n",
       "      <td>30</td>\n",
       "      <td>New York</td>\n",
       "    </tr>\n",
       "    <tr>\n",
       "      <th>1</th>\n",
       "      <td>Bob</td>\n",
       "      <td>25</td>\n",
       "      <td>Los Angeles</td>\n",
       "    </tr>\n",
       "    <tr>\n",
       "      <th>2</th>\n",
       "      <td>Charlie</td>\n",
       "      <td>35</td>\n",
       "      <td>Chicago</td>\n",
       "    </tr>\n",
       "  </tbody>\n",
       "</table>\n",
       "</div>"
      ],
      "text/plain": [
       "      Name  Age         City\n",
       "0    Alice   30     New York\n",
       "1      Bob   25  Los Angeles\n",
       "2  Charlie   35      Chicago"
      ]
     },
     "execution_count": 91,
     "metadata": {},
     "output_type": "execute_result"
    }
   ],
   "source": [
    "data2"
   ]
  },
  {
   "cell_type": "code",
   "execution_count": 92,
   "id": "7c47ba54",
   "metadata": {},
   "outputs": [],
   "source": [
    "import json"
   ]
  },
  {
   "cell_type": "code",
   "execution_count": 93,
   "id": "9f704acb",
   "metadata": {},
   "outputs": [],
   "source": [
    "# 데이터 준비\n",
    "data = {\n",
    "'people': [\n",
    "{'name': 'Alice', 'age': 30, 'city': 'New York'},\n",
    "{'name': 'Bob', 'age': 25, 'city': 'Los Angeles'},\n",
    "{'name': 'Charlie', 'age': 35, 'city': 'Chicago'}\n",
    "]\n",
    "}"
   ]
  },
  {
   "cell_type": "code",
   "execution_count": 94,
   "id": "29e24767",
   "metadata": {},
   "outputs": [
    {
     "name": "stdout",
     "output_type": "stream",
     "text": [
      "ok!\n"
     ]
    }
   ],
   "source": [
    "with open('data1.json', mode='w', encoding='utf-8') as file:\n",
    "    json.dump(data, file, indent=4)\n",
    "\n",
    "print('ok!')"
   ]
  },
  {
   "cell_type": "code",
   "execution_count": 96,
   "id": "70f504a7",
   "metadata": {},
   "outputs": [
    {
     "name": "stdout",
     "output_type": "stream",
     "text": [
      "{'people': [{'name': 'Alice', 'age': 30, 'city': 'New York'}, {'name': 'Bob', 'age': 25, 'city': 'Los Angeles'}, {'name': 'Charlie', 'age': 35, 'city': 'Chicago'}]}\n",
      "<class 'dict'>\n"
     ]
    }
   ],
   "source": [
    "with open('data1.json', mode='r') as file:\n",
    "    data_result = json.load(file)\n",
    "    print(data_result)\n",
    "    print(type(data_result))"
   ]
  },
  {
   "cell_type": "markdown",
   "id": "6e073619",
   "metadata": {},
   "source": [
    "### SQLite : 관계형 데이터베이스"
   ]
  },
  {
   "cell_type": "code",
   "execution_count": 97,
   "id": "b23168d9",
   "metadata": {},
   "outputs": [],
   "source": [
    "import sqlite3"
   ]
  },
  {
   "cell_type": "code",
   "execution_count": 102,
   "id": "21a0970b",
   "metadata": {},
   "outputs": [
    {
     "name": "stdout",
     "output_type": "stream",
     "text": [
      "데이터베이스 연결중!!!\n"
     ]
    }
   ],
   "source": [
    "conn = sqlite3.connect('first.db')\n",
    "print('데이터베이스 연결중!!!')\n",
    "conn.close()"
   ]
  },
  {
   "cell_type": "code",
   "execution_count": 114,
   "id": "0e721f0b",
   "metadata": {},
   "outputs": [
    {
     "ename": "OperationalError",
     "evalue": "table user already exists",
     "output_type": "error",
     "traceback": [
      "\u001b[31m---------------------------------------------------------------------------\u001b[39m",
      "\u001b[31mOperationalError\u001b[39m                          Traceback (most recent call last)",
      "\u001b[36mCell\u001b[39m\u001b[36m \u001b[39m\u001b[32mIn[114]\u001b[39m\u001b[32m, line 22\u001b[39m\n\u001b[32m     19\u001b[39m cursor = conn.cursor()\n\u001b[32m     21\u001b[39m \u001b[38;5;66;03m# 3. sql 실행\u001b[39;00m\n\u001b[32m---> \u001b[39m\u001b[32m22\u001b[39m \u001b[43mcursor\u001b[49m\u001b[43m.\u001b[49m\u001b[43mexecute\u001b[49m\u001b[43m(\u001b[49m\u001b[43msql_create\u001b[49m\u001b[43m)\u001b[49m\n\u001b[32m     24\u001b[39m \u001b[38;5;28mprint\u001b[39m(\u001b[33m'\u001b[39m\u001b[33mok!\u001b[39m\u001b[33m'\u001b[39m)\n\u001b[32m     26\u001b[39m \u001b[38;5;66;03m# 4. 연결 종료\u001b[39;00m\n",
      "\u001b[31mOperationalError\u001b[39m: table user already exists"
     ]
    }
   ],
   "source": [
    "# 관계형 데이터베이스 : 테이블 구조로 데이터를 저장\n",
    "# 저장할 수 있는 공간을 생성 => table 생성\n",
    "# sql : create table 테이블이름(컬럼이름 데이터타입 제약조건, 컬럼 타임 제약... 컬 타 제)\n",
    "# primary key (중복, 공백 x), not null (공백 x)\n",
    "sql_create = '''\n",
    "create table user (\n",
    "    id integer primary key autoincrement,\n",
    "    name text not null,\n",
    "    age integer,\n",
    "    city text \n",
    ")\n",
    "'''\n",
    "\n",
    "# 테이블 생성\n",
    "# 1. 데이터베이스 연결\n",
    "conn = sqlite3.connect('first.db')\n",
    "\n",
    "# 2. sql 실행할 수 있는 객체 필요\n",
    "cursor = conn.cursor()\n",
    "\n",
    "# 3. sql 실행\n",
    "cursor.execute(sql_create)\n",
    "\n",
    "print('ok!')\n",
    "\n",
    "# 4. 연결 종료\n",
    "conn.close()"
   ]
  },
  {
   "cell_type": "code",
   "execution_count": 136,
   "id": "37eecb60",
   "metadata": {},
   "outputs": [],
   "source": [
    "# 데이터 입력 : 행단위 입력 => (이름, 나이, 거주지)\n",
    "# sql = insert into user (name, age, city) values (?, ?, ?)\n",
    "\n",
    "# 1. 데이터베이스 연결\n",
    "conn = sqlite3.connect('first.db')\n",
    "\n",
    "# 2. 데이터 처리\n",
    "cursor = conn.cursor()\n",
    "sql_insert ='insert into user (name, age, city) values (?, ?, ?)'\n",
    "cursor.execute(sql_insert, ('cool', 20, 'London'))\n",
    "#data = [\n",
    "#    ('cool', 20, 'London'),\n",
    " #   ('hot',30, 'Seoul'),\n",
    "  #  ('king', 40, 'Busan')\n",
    "#]##\n",
    "#cursor.executemany(sql_insert, data)\n",
    "\n",
    "# 입력, 수정, 삭제 => DML\n",
    "# 완료 여부 코드로 지정 => 물리적인 저장\n",
    "conn.commit() # 작업이 끝났으니 파일에 저장\n",
    "\n",
    "conn.close()"
   ]
  },
  {
   "cell_type": "code",
   "execution_count": 137,
   "id": "94bce646",
   "metadata": {},
   "outputs": [
    {
     "name": "stdout",
     "output_type": "stream",
     "text": [
      "[(1, 'cool', 20, 'London'), (2, 'cool', 20, 'London'), (3, 'cool', 20, 'London'), (5, 'king', 40, 'Busan'), (6, 'cool', 20, 'London')]\n",
      "(1, 'cool', 20, 'London')\n",
      "(2, 'cool', 20, 'London')\n",
      "(3, 'cool', 20, 'London')\n",
      "(5, 'king', 40, 'Busan')\n",
      "(6, 'cool', 20, 'London')\n"
     ]
    }
   ],
   "source": [
    "# 질의 (검색) : 데이터 검색 => 행단위 검색\n",
    "# sql = select 컬럼이름들, ... from 테이블 이름 [where 컬럼 이름 기준으로 비교 연산]\n",
    "# 1. 연결\n",
    "conn = sqlite3.connect('first.db')\n",
    "\n",
    "# 2. 데이터 처리\n",
    "cursor = conn.cursor()\n",
    "sql_select = 'select * from user'\n",
    "#sql_select = 'select * from user where id > 2'\n",
    "#sql_select = 'select name, age from user where id > 2'\n",
    "\n",
    "cursor.execute(sql_select)\n",
    "\n",
    "# select 결과 => fetchall() 행 단위 전체, fetchone() 행 단위 1개\n",
    "rows = cursor.fetchall()\n",
    "print(rows)\n",
    "\n",
    "for row in rows:\n",
    "    print(row) #tuple 형식의 데이터 (tuple은 가공 불가능)\n",
    "\n",
    "conn.close()\n"
   ]
  },
  {
   "cell_type": "code",
   "execution_count": 129,
   "id": "5c1480d6",
   "metadata": {},
   "outputs": [
    {
     "name": "stdout",
     "output_type": "stream",
     "text": [
      "update ok\n"
     ]
    }
   ],
   "source": [
    "# 데이터 수정 : 행 단위 데이터 수정\n",
    "# 행을 찾고 -> 행의 컬럼의 값을 변경(삭제, 입력, 치환)\n",
    "# sql = update 테이블이름 set 컬럼이름=값, 컬럼이름=값, ... [where 조건식]\n",
    "\n",
    "# 1. 연결\n",
    "conn = sqlite3.connect('first.db')\n",
    "\n",
    "# 2. 데이터 처리\n",
    "cursor = conn.cursor()\n",
    "sql_update ='update user set age=? where id=?'\n",
    "\n",
    "cursor.execute(sql_update, (60, 4))\n",
    "\n",
    "conn.commit()\n",
    "print('update ok')\n",
    "\n",
    "conn.close()"
   ]
  },
  {
   "cell_type": "code",
   "execution_count": 132,
   "id": "9e5c71ad",
   "metadata": {},
   "outputs": [
    {
     "name": "stdout",
     "output_type": "stream",
     "text": [
      "delete ok!\n"
     ]
    }
   ],
   "source": [
    "# 데이터의 삭제 : 행 단위 삭제\n",
    "# sql = delete from 테이블 이름 where 조건식\n",
    "\n",
    "conn = sqlite3.connect('first.db')\n",
    "cursor = conn.cursor()\n",
    "sql_delete = 'delete from user where id = ?'\n",
    "cursor.execute(sql_delete, (4,))\n",
    "conn.commit()\n",
    "print('delete ok!')\n",
    "\n",
    "conn.close()"
   ]
  }
 ],
 "metadata": {
  "kernelspec": {
   "display_name": ".venv",
   "language": "python",
   "name": "python3"
  },
  "language_info": {
   "codemirror_mode": {
    "name": "ipython",
    "version": 3
   },
   "file_extension": ".py",
   "mimetype": "text/x-python",
   "name": "python",
   "nbconvert_exporter": "python",
   "pygments_lexer": "ipython3",
   "version": "3.13.4"
  }
 },
 "nbformat": 4,
 "nbformat_minor": 5
}
