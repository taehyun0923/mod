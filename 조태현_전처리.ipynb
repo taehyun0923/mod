{
 "cells": [
  {
   "cell_type": "markdown",
   "id": "b3eae945",
   "metadata": {},
   "source": [
    "# 데이터 전처리 EX-1\n",
    "###   문제 1: 결측치 처리"
   ]
  },
  {
   "cell_type": "code",
   "execution_count": null,
   "id": "be873168",
   "metadata": {},
   "outputs": [
    {
     "name": "stdout",
     "output_type": "stream",
     "text": [
      "각 열별 결측치 개수:\n",
      "PassengerId    0\n",
      "Survived       0\n",
      "Pclass         0\n",
      "Name           0\n",
      "Sex            0\n",
      "Age            0\n",
      "SibSp          0\n",
      "Parch          0\n",
      "Ticket         0\n",
      "Fare           0\n",
      "Embarked       0\n",
      "dtype: int64\n"
     ]
    },
    {
     "name": "stderr",
     "output_type": "stream",
     "text": [
      "C:\\Users\\User\\AppData\\Local\\Temp\\ipykernel_5576\\3107111482.py:7: FutureWarning: A value is trying to be set on a copy of a DataFrame or Series through chained assignment using an inplace method.\n",
      "The behavior will change in pandas 3.0. This inplace method will never work because the intermediate object on which we are setting values always behaves as a copy.\n",
      "\n",
      "For example, when doing 'df[col].method(value, inplace=True)', try using 'df.method({col: value}, inplace=True)' or df[col] = df[col].method(value) instead, to perform the operation inplace on the original object.\n",
      "\n",
      "\n",
      "  data['Age'].fillna(data['Age'].mean(), inplace=True)\n",
      "C:\\Users\\User\\AppData\\Local\\Temp\\ipykernel_5576\\3107111482.py:11: FutureWarning: A value is trying to be set on a copy of a DataFrame or Series through chained assignment using an inplace method.\n",
      "The behavior will change in pandas 3.0. This inplace method will never work because the intermediate object on which we are setting values always behaves as a copy.\n",
      "\n",
      "For example, when doing 'df[col].method(value, inplace=True)', try using 'df.method({col: value}, inplace=True)' or df[col] = df[col].method(value) instead, to perform the operation inplace on the original object.\n",
      "\n",
      "\n",
      "  data['Embarked'].fillna(mode_embarked, inplace=True)\n"
     ]
    }
   ],
   "source": [
    "import pandas as pd\n",
    "\n",
    "# 1. 데이터 불러오기\n",
    "data = pd.read_csv('train.csv')\n",
    "\n",
    "# 2. Age 열의 결측치를 평균값으로 대체\n",
    "data['Age'].fillna(data['Age'].mean(), inplace=True)\n",
    "\n",
    "# 3. Embarked 열의 결측치를 최빈값으로 대체\n",
    "mode_embarked = data['Embarked'].mode()[0]\n",
    "data['Embarked'].fillna(mode_embarked, inplace=True)\n",
    "\n",
    "# 4. Cabin 열 삭제\n",
    "data.drop(columns=['Cabin'], inplace=True)\n",
    "\n",
    "# 5. 결측치가 모두 제거되었는지 확인\n",
    "print(\"각 열별 결측치 개수:\")\n",
    "print(data.isnull().sum())\n"
   ]
  },
  {
   "cell_type": "markdown",
   "id": "de11538b",
   "metadata": {},
   "source": [
    "# 데이터 전처리 EX-2\n",
    "### 문제 2: 중복 데이터 제거"
   ]
  },
  {
   "cell_type": "markdown",
   "id": "d71b907c",
   "metadata": {},
   "source": [
    "#### 샘플 데이터 만들기"
   ]
  },
  {
   "cell_type": "code",
   "execution_count": 3,
   "id": "87a39584",
   "metadata": {},
   "outputs": [
    {
     "name": "stdout",
     "output_type": "stream",
     "text": [
      "sales.csv 파일이 생성되었습니다.\n"
     ]
    }
   ],
   "source": [
    "import pandas as pd\n",
    "\n",
    "# 1. 가짜 데이터 생성\n",
    "data = {\n",
    "    'ProductID': [101, 102, 103, 104, 101, 102, 103, 105, 106, 101],\n",
    "    'ProductName': ['A', 'B', 'C', 'D', 'A', 'B', 'C', 'E', 'F', 'A'],\n",
    "    'Price': [100, 200, 300, 400, 100, 200, 300, 500, 600, 100],\n",
    "    'Quantity': [1, 2, 3, 4, 1, 2, 3, 5, 6, 1]\n",
    "}\n",
    "\n",
    "# 2. DataFrame 생성\n",
    "df = pd.DataFrame(data)\n",
    "\n",
    "# 3. 중복된 데이터를 일부 추가 (중복된 행 4개 추가)\n",
    "df.loc[len(df.index)] = [101, 'A', 100, 1]  # 중복 행 추가\n",
    "df.loc[len(df.index)] = [102, 'B', 200, 2]  # 중복 행 추가\n",
    "df.loc[len(df.index)] = [103, 'C', 300, 3]  # 중복 행 추가\n",
    "df.loc[len(df.index)] = [104, 'D', 400, 4]  # 중복 행 추가\n",
    "\n",
    "# 4. CSV 파일로 내보내기\n",
    "df.to_csv('sales.csv', index=False)\n",
    "\n",
    "print(\"sales.csv 파일이 생성되었습니다.\")\n"
   ]
  },
  {
   "cell_type": "code",
   "execution_count": 4,
   "id": "480a5a62",
   "metadata": {},
   "outputs": [
    {
     "name": "stdout",
     "output_type": "stream",
     "text": [
      "중복된 행의 개수: 8개\n",
      "중복 제거 후 데이터 행 수: 6개\n"
     ]
    }
   ],
   "source": [
    "# 1. 데이터 불러오기\n",
    "df = pd.read_csv('sales.csv')\n",
    "\n",
    "# 2. 중복된 행 개수 확인\n",
    "duplicate_count = df.duplicated().sum()\n",
    "print(f\"중복된 행의 개수: {duplicate_count}개\")\n",
    "\n",
    "# 3. 중복 행 제거\n",
    "df_no_duplicates = df.drop_duplicates()\n",
    "\n",
    "# 중복 제거 후 남은 데이터 개수 확인\n",
    "print(f\"중복 제거 후 데이터 행 수: {len(df_no_duplicates)}개\")\n"
   ]
  },
  {
   "cell_type": "markdown",
   "id": "de6d819a",
   "metadata": {},
   "source": [
    "# 데이터 전처리 EX-3\n",
    "### 문제 3: 이상치 제거 (IQR 이용)"
   ]
  },
  {
   "cell_type": "code",
   "execution_count": 8,
   "id": "ed7e9ffb",
   "metadata": {},
   "outputs": [
    {
     "name": "stdout",
     "output_type": "stream",
     "text": [
      "IQR: 0.64\n",
      "하한 (lower bound): -0.5599999999999999\n",
      "상한 (upper bound): 2.0\n",
      "원래 데이터의 개수: 53940\n",
      "이상치 제거 후 데이터의 개수: 52051\n"
     ]
    }
   ],
   "source": [
    "import pandas as pd\n",
    "\n",
    "# 1. 데이터 불러오기\n",
    "df = pd.read_csv('diamonds.csv')\n",
    "\n",
    "# 2. carat열의 IQR 계산\n",
    "Q1 = df['carat'].quantile(0.25)\n",
    "Q3 = df['carat'].quantile(0.75)\n",
    "IQR = Q3 - Q1\n",
    "\n",
    "# 3. 이상치 경계 계산 후 하한과 상한 값 출력\n",
    "lower_bound = Q1 - 1.5 * IQR\n",
    "upper_bound = Q3 + 1.5 * IQR\n",
    "\n",
    "print(f\"IQR: {IQR}\")\n",
    "print(f\"하한 (lower bound): {lower_bound}\")\n",
    "print(f\"상한 (upper bound): {upper_bound}\")\n",
    "\n",
    "# 4. carat 열에서 IQR 방식을 사용하여 이상치 제거\n",
    "df_no_outliers = df[(df['carat'] >= lower_bound) & (df['carat'] <= upper_bound)]\n",
    "\n",
    "# 5. 이상치 제거 후 데이터의 개수를 출력\n",
    "print(f\"원래 데이터의 개수: {len(df)}\")\n",
    "print(f\"이상치 제거 후 데이터의 개수: {len(df_no_outliers)}\")\n"
   ]
  },
  {
   "cell_type": "markdown",
   "id": "3f12d3c5",
   "metadata": {},
   "source": [
    "# 데이터 전처리 EX-4\n",
    "### 문제 4: 범주형 데이터 인코딩"
   ]
  },
  {
   "cell_type": "code",
   "execution_count": 11,
   "id": "33ea2d12",
   "metadata": {},
   "outputs": [
    {
     "name": "stdout",
     "output_type": "stream",
     "text": [
      "       workclass  education  marital-status  occupation  relationship  race  \\\n",
      "0              4          1               4           7             3     2   \n",
      "1              4         11               2           5             0     4   \n",
      "2              2          7               2          11             0     4   \n",
      "3              4         15               2           7             0     2   \n",
      "4              0         15               4           0             3     4   \n",
      "...          ...        ...             ...         ...           ...   ...   \n",
      "48837          4          7               2          13             5     4   \n",
      "48838          4         11               2           7             0     4   \n",
      "48839          4         11               6           1             4     4   \n",
      "48840          4         11               4           1             3     4   \n",
      "48841          5         11               2           4             5     4   \n",
      "\n",
      "       gender  native-country  \n",
      "0           1              39  \n",
      "1           1              39  \n",
      "2           1              39  \n",
      "3           1              39  \n",
      "4           0              39  \n",
      "...       ...             ...  \n",
      "48837       0              39  \n",
      "48838       1              39  \n",
      "48839       0              39  \n",
      "48840       1              39  \n",
      "48841       0              39  \n",
      "\n",
      "[48842 rows x 8 columns]\n"
     ]
    }
   ],
   "source": [
    "import pandas as pd\n",
    "from sklearn.preprocessing import LabelEncoder\n",
    "\n",
    "# 1. 데이터 불러오기\n",
    "df = pd.read_csv('adult.csv')\n",
    "\n",
    "# 2. 인코딩할 열 목록\n",
    "encoding_columns = [\n",
    "    'workclass', 'education', 'marital-status', 'occupation',\n",
    "    'relationship', 'race', 'gender', 'native-country'\n",
    "]\n",
    "\n",
    "# 3. 각 열을 Label Encoding으로 변환\n",
    "for col in encoding_columns:\n",
    "    le = LabelEncoder()\n",
    "    df[col] = le.fit_transform(df[col].astype(str))\n",
    "\n",
    "# 4. 결과 출력\n",
    "print(df[encoding_columns])\n"
   ]
  },
  {
   "cell_type": "markdown",
   "id": "78bff572",
   "metadata": {},
   "source": [
    "# 데이터 전처리 EX-5\n",
    "### 문제 5: 데이터 스케일링"
   ]
  },
  {
   "cell_type": "code",
   "execution_count": null,
   "id": "99fbffac",
   "metadata": {},
   "outputs": [
    {
     "name": "stdout",
     "output_type": "stream",
     "text": [
      "표준화된 데이터\n",
      "       fixed acidity  volatile acidity  citric acid  residual sugar  chlorides\n",
      "0         -0.528360          0.961877    -1.391472       -0.453218  -0.243707\n",
      "1         -0.298547          1.967442    -1.391472        0.043416   0.223875\n",
      "2         -0.298547          1.297065    -1.186070       -0.169427   0.096353\n",
      "3          1.654856         -1.384443     1.484154       -0.453218  -0.264960\n",
      "4         -0.528360          0.961877    -1.391472       -0.453218  -0.243707\n",
      "...             ...               ...          ...             ...        ...\n",
      "1594      -1.217796          0.403229    -0.980669       -0.382271   0.053845\n",
      "1595      -1.390155          0.123905    -0.877968       -0.240375  -0.541259\n",
      "1596      -1.160343         -0.099554    -0.723916       -0.169427  -0.243707\n",
      "1597      -1.390155          0.654620    -0.775267       -0.382271  -0.264960\n",
      "1598      -1.332702         -1.216849     1.021999        0.752894  -0.434990\n",
      "\n",
      "[1599 rows x 5 columns]\n"
     ]
    }
   ],
   "source": [
    "import pandas as pd\n",
    "from sklearn.preprocessing import StandardScaler\n",
    "\n",
    "# 1. 데이터 불러오기\n",
    "df = pd.read_csv('winequality-red.csv')\n",
    "\n",
    "# 2. 표준화할 열 목록\n",
    "scaling_columns = ['fixed acidity', 'volatile acidity',\n",
    "    'citric acid', 'residual sugar', 'chlorides']\n",
    "\n",
    "# 3. StandardScaler를 사용\n",
    "scaler = StandardScaler()\n",
    "\n",
    "# 4. 각 열을 StandardScaler로 표준화\n",
    "scaled_data = scaler.fit_transform(df[scaling_columns])\n",
    "\n",
    "# 5. 표준화한 결과를 DataFrame으로 변환\n",
    "scaled_df = pd.DataFrame(scaled_data, columns=scaling_columns)\n",
    "\n",
    "# 6. 표준화된 결과 출력\n",
    "print(\"표준화된 데이터\\n\",scaled_df)\n"
   ]
  }
 ],
 "metadata": {
  "kernelspec": {
   "display_name": "Python 3",
   "language": "python",
   "name": "python3"
  },
  "language_info": {
   "codemirror_mode": {
    "name": "ipython",
    "version": 3
   },
   "file_extension": ".py",
   "mimetype": "text/x-python",
   "name": "python",
   "nbconvert_exporter": "python",
   "pygments_lexer": "ipython3",
   "version": "3.13.4"
  }
 },
 "nbformat": 4,
 "nbformat_minor": 5
}
